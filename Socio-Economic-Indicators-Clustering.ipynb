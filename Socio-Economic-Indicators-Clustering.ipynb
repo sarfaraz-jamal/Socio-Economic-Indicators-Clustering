{
 "cells": [
  {
   "cell_type": "markdown",
   "id": "0330e1c8",
   "metadata": {
    "papermill": {
     "duration": 0.054497,
     "end_time": "2022-04-12T13:10:06.392135",
     "exception": false,
     "start_time": "2022-04-12T13:10:06.337638",
     "status": "completed"
    },
    "tags": []
   },
   "source": [
    "# Clustering the Countries by using Unsupervised Learning for HELP International\n",
    "# Problem Statement\n",
    "Identify the countries that are in most need of aid. Categorize countries according socio-economic factors and determine the overall development level of the country. Then recommend countries that need the most attention."
   ]
  },
  {
   "cell_type": "markdown",
   "id": "33be0de2",
   "metadata": {
    "papermill": {
     "duration": 0.053983,
     "end_time": "2022-04-12T13:10:06.500065",
     "exception": false,
     "start_time": "2022-04-12T13:10:06.446082",
     "status": "completed"
    },
    "tags": []
   },
   "source": [
    "# Import data and important libraries "
   ]
  },
  {
   "cell_type": "code",
   "execution_count": 1,
   "id": "f2c6536c",
   "metadata": {
    "execution": {
     "iopub.execute_input": "2022-04-12T13:10:06.616780Z",
     "iopub.status.busy": "2022-04-12T13:10:06.616108Z",
     "iopub.status.idle": "2022-04-12T13:10:08.691391Z",
     "shell.execute_reply": "2022-04-12T13:10:08.692089Z",
     "shell.execute_reply.started": "2022-04-12T13:08:55.386835Z"
    },
    "papermill": {
     "duration": 2.139978,
     "end_time": "2022-04-12T13:10:08.692443",
     "exception": false,
     "start_time": "2022-04-12T13:10:06.552465",
     "status": "completed"
    },
    "tags": []
   },
   "outputs": [
    {
     "name": "stdout",
     "output_type": "stream",
     "text": [
      "/kaggle/input/unsupervised-learning-on-country-data/Country-data.csv\n",
      "/kaggle/input/unsupervised-learning-on-country-data/data-dictionary.csv\n"
     ]
    }
   ],
   "source": [
    "# This Python 3 environment comes with many helpful analytics libraries installed\n",
    "# It is defined by the kaggle/python Docker image: https://github.com/kaggle/docker-python\n",
    "# For example, here's several helpful packages to load\n",
    "\n",
    "import numpy as np # linear algebra\n",
    "import pandas as pd # data processing, CSV file I/O (e.g. pd.read_csv)\n",
    "pd.set_option('display.max_colwidth', None)\n",
    "import folium\n",
    "import requests\n",
    "import seaborn as sns\n",
    "from sklearn.preprocessing import StandardScaler\n",
    "from sklearn.cluster import KMeans\n",
    "from yellowbrick.cluster import KElbowVisualizer\n",
    "import warnings\n",
    "warnings.filterwarnings('ignore')\n",
    "\n",
    "# Input data files are available in the read-only \"../input/\" directory\n",
    "# For example, running this (by clicking run or pressing Shift+Enter) will list all files under the input directory\n",
    "\n",
    "import os\n",
    "for dirname, _, filenames in os.walk('/kaggle/input'):\n",
    "    for filename in filenames:\n",
    "        print(os.path.join(dirname, filename))\n",
    "\n",
    "# You can write up to 20GB to the current directory (/kaggle/working/) that gets preserved as output when you create a version using \"Save & Run All\" \n",
    "# You can also write temporary files to /kaggle/temp/, but they won't be saved outside of the current session\n",
    "\n"
   ]
  },
  {
   "cell_type": "code",
   "execution_count": 2,
   "id": "704b8eaa",
   "metadata": {
    "execution": {
     "iopub.execute_input": "2022-04-12T13:10:08.805518Z",
     "iopub.status.busy": "2022-04-12T13:10:08.804794Z",
     "iopub.status.idle": "2022-04-12T13:10:08.825483Z",
     "shell.execute_reply": "2022-04-12T13:10:08.826108Z",
     "shell.execute_reply.started": "2022-04-12T13:08:56.526845Z"
    },
    "papermill": {
     "duration": 0.079888,
     "end_time": "2022-04-12T13:10:08.826324",
     "exception": false,
     "start_time": "2022-04-12T13:10:08.746436",
     "status": "completed"
    },
    "tags": []
   },
   "outputs": [],
   "source": [
    "data = pd.read_csv(\"../input/unsupervised-learning-on-country-data/Country-data.csv\")\n",
    "data_dictionary = pd.read_csv(\"../input/unsupervised-learning-on-country-data/data-dictionary.csv\")"
   ]
  },
  {
   "cell_type": "markdown",
   "id": "bebc06ed",
   "metadata": {
    "papermill": {
     "duration": 0.052629,
     "end_time": "2022-04-12T13:10:08.932409",
     "exception": false,
     "start_time": "2022-04-12T13:10:08.879780",
     "status": "completed"
    },
    "tags": []
   },
   "source": [
    "# Data Understanding "
   ]
  },
  {
   "cell_type": "code",
   "execution_count": 3,
   "id": "d3e7dc04",
   "metadata": {
    "execution": {
     "iopub.execute_input": "2022-04-12T13:10:09.040268Z",
     "iopub.status.busy": "2022-04-12T13:10:09.039526Z",
     "iopub.status.idle": "2022-04-12T13:10:09.065292Z",
     "shell.execute_reply": "2022-04-12T13:10:09.065775Z",
     "shell.execute_reply.started": "2022-04-12T13:08:57.224165Z"
    },
    "papermill": {
     "duration": 0.081269,
     "end_time": "2022-04-12T13:10:09.065989",
     "exception": false,
     "start_time": "2022-04-12T13:10:08.984720",
     "status": "completed"
    },
    "tags": []
   },
   "outputs": [
    {
     "data": {
      "text/html": [
       "<div>\n",
       "<style scoped>\n",
       "    .dataframe tbody tr th:only-of-type {\n",
       "        vertical-align: middle;\n",
       "    }\n",
       "\n",
       "    .dataframe tbody tr th {\n",
       "        vertical-align: top;\n",
       "    }\n",
       "\n",
       "    .dataframe thead th {\n",
       "        text-align: right;\n",
       "    }\n",
       "</style>\n",
       "<table border=\"1\" class=\"dataframe\">\n",
       "  <thead>\n",
       "    <tr style=\"text-align: right;\">\n",
       "      <th></th>\n",
       "      <th>country</th>\n",
       "      <th>child_mort</th>\n",
       "      <th>exports</th>\n",
       "      <th>health</th>\n",
       "      <th>imports</th>\n",
       "      <th>income</th>\n",
       "      <th>inflation</th>\n",
       "      <th>life_expec</th>\n",
       "      <th>total_fer</th>\n",
       "      <th>gdpp</th>\n",
       "    </tr>\n",
       "  </thead>\n",
       "  <tbody>\n",
       "    <tr>\n",
       "      <th>0</th>\n",
       "      <td>Afghanistan</td>\n",
       "      <td>90.2</td>\n",
       "      <td>10.0</td>\n",
       "      <td>7.58</td>\n",
       "      <td>44.9</td>\n",
       "      <td>1610</td>\n",
       "      <td>9.44</td>\n",
       "      <td>56.2</td>\n",
       "      <td>5.82</td>\n",
       "      <td>553</td>\n",
       "    </tr>\n",
       "    <tr>\n",
       "      <th>1</th>\n",
       "      <td>Albania</td>\n",
       "      <td>16.6</td>\n",
       "      <td>28.0</td>\n",
       "      <td>6.55</td>\n",
       "      <td>48.6</td>\n",
       "      <td>9930</td>\n",
       "      <td>4.49</td>\n",
       "      <td>76.3</td>\n",
       "      <td>1.65</td>\n",
       "      <td>4090</td>\n",
       "    </tr>\n",
       "    <tr>\n",
       "      <th>2</th>\n",
       "      <td>Algeria</td>\n",
       "      <td>27.3</td>\n",
       "      <td>38.4</td>\n",
       "      <td>4.17</td>\n",
       "      <td>31.4</td>\n",
       "      <td>12900</td>\n",
       "      <td>16.10</td>\n",
       "      <td>76.5</td>\n",
       "      <td>2.89</td>\n",
       "      <td>4460</td>\n",
       "    </tr>\n",
       "    <tr>\n",
       "      <th>3</th>\n",
       "      <td>Angola</td>\n",
       "      <td>119.0</td>\n",
       "      <td>62.3</td>\n",
       "      <td>2.85</td>\n",
       "      <td>42.9</td>\n",
       "      <td>5900</td>\n",
       "      <td>22.40</td>\n",
       "      <td>60.1</td>\n",
       "      <td>6.16</td>\n",
       "      <td>3530</td>\n",
       "    </tr>\n",
       "    <tr>\n",
       "      <th>4</th>\n",
       "      <td>Antigua and Barbuda</td>\n",
       "      <td>10.3</td>\n",
       "      <td>45.5</td>\n",
       "      <td>6.03</td>\n",
       "      <td>58.9</td>\n",
       "      <td>19100</td>\n",
       "      <td>1.44</td>\n",
       "      <td>76.8</td>\n",
       "      <td>2.13</td>\n",
       "      <td>12200</td>\n",
       "    </tr>\n",
       "  </tbody>\n",
       "</table>\n",
       "</div>"
      ],
      "text/plain": [
       "               country  child_mort  exports  health  imports  income  \\\n",
       "0          Afghanistan        90.2     10.0    7.58     44.9    1610   \n",
       "1              Albania        16.6     28.0    6.55     48.6    9930   \n",
       "2              Algeria        27.3     38.4    4.17     31.4   12900   \n",
       "3               Angola       119.0     62.3    2.85     42.9    5900   \n",
       "4  Antigua and Barbuda        10.3     45.5    6.03     58.9   19100   \n",
       "\n",
       "   inflation  life_expec  total_fer   gdpp  \n",
       "0       9.44        56.2       5.82    553  \n",
       "1       4.49        76.3       1.65   4090  \n",
       "2      16.10        76.5       2.89   4460  \n",
       "3      22.40        60.1       6.16   3530  \n",
       "4       1.44        76.8       2.13  12200  "
      ]
     },
     "execution_count": 3,
     "metadata": {},
     "output_type": "execute_result"
    }
   ],
   "source": [
    "data.head()"
   ]
  },
  {
   "cell_type": "code",
   "execution_count": 4,
   "id": "08156e06",
   "metadata": {
    "execution": {
     "iopub.execute_input": "2022-04-12T13:10:09.183400Z",
     "iopub.status.busy": "2022-04-12T13:10:09.176453Z",
     "iopub.status.idle": "2022-04-12T13:10:09.187375Z",
     "shell.execute_reply": "2022-04-12T13:10:09.186688Z",
     "shell.execute_reply.started": "2022-04-12T13:08:57.738268Z"
    },
    "papermill": {
     "duration": 0.067321,
     "end_time": "2022-04-12T13:10:09.187536",
     "exception": false,
     "start_time": "2022-04-12T13:10:09.120215",
     "status": "completed"
    },
    "tags": []
   },
   "outputs": [
    {
     "data": {
      "text/html": [
       "<div>\n",
       "<style scoped>\n",
       "    .dataframe tbody tr th:only-of-type {\n",
       "        vertical-align: middle;\n",
       "    }\n",
       "\n",
       "    .dataframe tbody tr th {\n",
       "        vertical-align: top;\n",
       "    }\n",
       "\n",
       "    .dataframe thead th {\n",
       "        text-align: right;\n",
       "    }\n",
       "</style>\n",
       "<table border=\"1\" class=\"dataframe\">\n",
       "  <thead>\n",
       "    <tr style=\"text-align: right;\">\n",
       "      <th></th>\n",
       "      <th>Column Name</th>\n",
       "      <th>Description</th>\n",
       "    </tr>\n",
       "  </thead>\n",
       "  <tbody>\n",
       "    <tr>\n",
       "      <th>0</th>\n",
       "      <td>country</td>\n",
       "      <td>Name of the country</td>\n",
       "    </tr>\n",
       "    <tr>\n",
       "      <th>1</th>\n",
       "      <td>child_mort</td>\n",
       "      <td>Death of children under 5 years of age per 1000 live births</td>\n",
       "    </tr>\n",
       "    <tr>\n",
       "      <th>2</th>\n",
       "      <td>exports</td>\n",
       "      <td>Exports of goods and services per capita. Given as %age of the GDP per capita</td>\n",
       "    </tr>\n",
       "    <tr>\n",
       "      <th>3</th>\n",
       "      <td>health</td>\n",
       "      <td>Total health spending per capita. Given as %age of GDP per capita</td>\n",
       "    </tr>\n",
       "    <tr>\n",
       "      <th>4</th>\n",
       "      <td>imports</td>\n",
       "      <td>Imports of goods and services per capita. Given as %age of the GDP per capita</td>\n",
       "    </tr>\n",
       "    <tr>\n",
       "      <th>5</th>\n",
       "      <td>Income</td>\n",
       "      <td>Net income per person</td>\n",
       "    </tr>\n",
       "    <tr>\n",
       "      <th>6</th>\n",
       "      <td>Inflation</td>\n",
       "      <td>The measurement of the annual growth rate of the Total GDP</td>\n",
       "    </tr>\n",
       "    <tr>\n",
       "      <th>7</th>\n",
       "      <td>life_expec</td>\n",
       "      <td>The average number of years a new born child would live if the current mortality patterns are to remain the same</td>\n",
       "    </tr>\n",
       "    <tr>\n",
       "      <th>8</th>\n",
       "      <td>total_fer</td>\n",
       "      <td>The number of children that would be born to each woman if the current age-fertility rates remain the same.</td>\n",
       "    </tr>\n",
       "    <tr>\n",
       "      <th>9</th>\n",
       "      <td>gdpp</td>\n",
       "      <td>The GDP per capita. Calculated as the Total GDP divided by the total population.</td>\n",
       "    </tr>\n",
       "  </tbody>\n",
       "</table>\n",
       "</div>"
      ],
      "text/plain": [
       "  Column Name  \\\n",
       "0     country   \n",
       "1  child_mort   \n",
       "2     exports   \n",
       "3      health   \n",
       "4     imports   \n",
       "5      Income   \n",
       "6   Inflation   \n",
       "7  life_expec   \n",
       "8   total_fer   \n",
       "9        gdpp   \n",
       "\n",
       "                                                                                                        Description  \n",
       "0                                                                                               Name of the country  \n",
       "1                                                       Death of children under 5 years of age per 1000 live births  \n",
       "2                                     Exports of goods and services per capita. Given as %age of the GDP per capita  \n",
       "3                                                 Total health spending per capita. Given as %age of GDP per capita  \n",
       "4                                     Imports of goods and services per capita. Given as %age of the GDP per capita  \n",
       "5                                                                                             Net income per person  \n",
       "6                                                        The measurement of the annual growth rate of the Total GDP  \n",
       "7  The average number of years a new born child would live if the current mortality patterns are to remain the same  \n",
       "8       The number of children that would be born to each woman if the current age-fertility rates remain the same.  \n",
       "9                                  The GDP per capita. Calculated as the Total GDP divided by the total population.  "
      ]
     },
     "execution_count": 4,
     "metadata": {},
     "output_type": "execute_result"
    }
   ],
   "source": [
    "data_dictionary"
   ]
  },
  {
   "cell_type": "code",
   "execution_count": 5,
   "id": "0196c4c2",
   "metadata": {
    "execution": {
     "iopub.execute_input": "2022-04-12T13:10:09.300686Z",
     "iopub.status.busy": "2022-04-12T13:10:09.299730Z",
     "iopub.status.idle": "2022-04-12T13:10:09.303129Z",
     "shell.execute_reply": "2022-04-12T13:10:09.303616Z",
     "shell.execute_reply.started": "2022-04-12T13:08:58.239550Z"
    },
    "papermill": {
     "duration": 0.062721,
     "end_time": "2022-04-12T13:10:09.303800",
     "exception": false,
     "start_time": "2022-04-12T13:10:09.241079",
     "status": "completed"
    },
    "tags": []
   },
   "outputs": [
    {
     "data": {
      "text/plain": [
       "(167, 10)"
      ]
     },
     "execution_count": 5,
     "metadata": {},
     "output_type": "execute_result"
    }
   ],
   "source": [
    "data.shape"
   ]
  },
  {
   "cell_type": "code",
   "execution_count": 6,
   "id": "b3c4fc56",
   "metadata": {
    "execution": {
     "iopub.execute_input": "2022-04-12T13:10:09.424914Z",
     "iopub.status.busy": "2022-04-12T13:10:09.424206Z",
     "iopub.status.idle": "2022-04-12T13:10:09.462253Z",
     "shell.execute_reply": "2022-04-12T13:10:09.462736Z",
     "shell.execute_reply.started": "2022-04-12T13:08:58.895404Z"
    },
    "papermill": {
     "duration": 0.105406,
     "end_time": "2022-04-12T13:10:09.462934",
     "exception": false,
     "start_time": "2022-04-12T13:10:09.357528",
     "status": "completed"
    },
    "tags": []
   },
   "outputs": [
    {
     "data": {
      "text/html": [
       "<div>\n",
       "<style scoped>\n",
       "    .dataframe tbody tr th:only-of-type {\n",
       "        vertical-align: middle;\n",
       "    }\n",
       "\n",
       "    .dataframe tbody tr th {\n",
       "        vertical-align: top;\n",
       "    }\n",
       "\n",
       "    .dataframe thead th {\n",
       "        text-align: right;\n",
       "    }\n",
       "</style>\n",
       "<table border=\"1\" class=\"dataframe\">\n",
       "  <thead>\n",
       "    <tr style=\"text-align: right;\">\n",
       "      <th></th>\n",
       "      <th>child_mort</th>\n",
       "      <th>exports</th>\n",
       "      <th>health</th>\n",
       "      <th>imports</th>\n",
       "      <th>income</th>\n",
       "      <th>inflation</th>\n",
       "      <th>life_expec</th>\n",
       "      <th>total_fer</th>\n",
       "      <th>gdpp</th>\n",
       "    </tr>\n",
       "  </thead>\n",
       "  <tbody>\n",
       "    <tr>\n",
       "      <th>count</th>\n",
       "      <td>167.000000</td>\n",
       "      <td>167.000000</td>\n",
       "      <td>167.000000</td>\n",
       "      <td>167.000000</td>\n",
       "      <td>167.000000</td>\n",
       "      <td>167.000000</td>\n",
       "      <td>167.000000</td>\n",
       "      <td>167.000000</td>\n",
       "      <td>167.000000</td>\n",
       "    </tr>\n",
       "    <tr>\n",
       "      <th>mean</th>\n",
       "      <td>38.270060</td>\n",
       "      <td>41.108976</td>\n",
       "      <td>6.815689</td>\n",
       "      <td>46.890215</td>\n",
       "      <td>17144.688623</td>\n",
       "      <td>7.781832</td>\n",
       "      <td>70.555689</td>\n",
       "      <td>2.947964</td>\n",
       "      <td>12964.155689</td>\n",
       "    </tr>\n",
       "    <tr>\n",
       "      <th>std</th>\n",
       "      <td>40.328931</td>\n",
       "      <td>27.412010</td>\n",
       "      <td>2.746837</td>\n",
       "      <td>24.209589</td>\n",
       "      <td>19278.067698</td>\n",
       "      <td>10.570704</td>\n",
       "      <td>8.893172</td>\n",
       "      <td>1.513848</td>\n",
       "      <td>18328.704809</td>\n",
       "    </tr>\n",
       "    <tr>\n",
       "      <th>min</th>\n",
       "      <td>2.600000</td>\n",
       "      <td>0.109000</td>\n",
       "      <td>1.810000</td>\n",
       "      <td>0.065900</td>\n",
       "      <td>609.000000</td>\n",
       "      <td>-4.210000</td>\n",
       "      <td>32.100000</td>\n",
       "      <td>1.150000</td>\n",
       "      <td>231.000000</td>\n",
       "    </tr>\n",
       "    <tr>\n",
       "      <th>25%</th>\n",
       "      <td>8.250000</td>\n",
       "      <td>23.800000</td>\n",
       "      <td>4.920000</td>\n",
       "      <td>30.200000</td>\n",
       "      <td>3355.000000</td>\n",
       "      <td>1.810000</td>\n",
       "      <td>65.300000</td>\n",
       "      <td>1.795000</td>\n",
       "      <td>1330.000000</td>\n",
       "    </tr>\n",
       "    <tr>\n",
       "      <th>50%</th>\n",
       "      <td>19.300000</td>\n",
       "      <td>35.000000</td>\n",
       "      <td>6.320000</td>\n",
       "      <td>43.300000</td>\n",
       "      <td>9960.000000</td>\n",
       "      <td>5.390000</td>\n",
       "      <td>73.100000</td>\n",
       "      <td>2.410000</td>\n",
       "      <td>4660.000000</td>\n",
       "    </tr>\n",
       "    <tr>\n",
       "      <th>75%</th>\n",
       "      <td>62.100000</td>\n",
       "      <td>51.350000</td>\n",
       "      <td>8.600000</td>\n",
       "      <td>58.750000</td>\n",
       "      <td>22800.000000</td>\n",
       "      <td>10.750000</td>\n",
       "      <td>76.800000</td>\n",
       "      <td>3.880000</td>\n",
       "      <td>14050.000000</td>\n",
       "    </tr>\n",
       "    <tr>\n",
       "      <th>max</th>\n",
       "      <td>208.000000</td>\n",
       "      <td>200.000000</td>\n",
       "      <td>17.900000</td>\n",
       "      <td>174.000000</td>\n",
       "      <td>125000.000000</td>\n",
       "      <td>104.000000</td>\n",
       "      <td>82.800000</td>\n",
       "      <td>7.490000</td>\n",
       "      <td>105000.000000</td>\n",
       "    </tr>\n",
       "  </tbody>\n",
       "</table>\n",
       "</div>"
      ],
      "text/plain": [
       "       child_mort     exports      health     imports         income  \\\n",
       "count  167.000000  167.000000  167.000000  167.000000     167.000000   \n",
       "mean    38.270060   41.108976    6.815689   46.890215   17144.688623   \n",
       "std     40.328931   27.412010    2.746837   24.209589   19278.067698   \n",
       "min      2.600000    0.109000    1.810000    0.065900     609.000000   \n",
       "25%      8.250000   23.800000    4.920000   30.200000    3355.000000   \n",
       "50%     19.300000   35.000000    6.320000   43.300000    9960.000000   \n",
       "75%     62.100000   51.350000    8.600000   58.750000   22800.000000   \n",
       "max    208.000000  200.000000   17.900000  174.000000  125000.000000   \n",
       "\n",
       "        inflation  life_expec   total_fer           gdpp  \n",
       "count  167.000000  167.000000  167.000000     167.000000  \n",
       "mean     7.781832   70.555689    2.947964   12964.155689  \n",
       "std     10.570704    8.893172    1.513848   18328.704809  \n",
       "min     -4.210000   32.100000    1.150000     231.000000  \n",
       "25%      1.810000   65.300000    1.795000    1330.000000  \n",
       "50%      5.390000   73.100000    2.410000    4660.000000  \n",
       "75%     10.750000   76.800000    3.880000   14050.000000  \n",
       "max    104.000000   82.800000    7.490000  105000.000000  "
      ]
     },
     "execution_count": 6,
     "metadata": {},
     "output_type": "execute_result"
    }
   ],
   "source": [
    "data.describe()"
   ]
  },
  {
   "cell_type": "code",
   "execution_count": 7,
   "id": "80201d50",
   "metadata": {
    "execution": {
     "iopub.execute_input": "2022-04-12T13:10:09.576625Z",
     "iopub.status.busy": "2022-04-12T13:10:09.575879Z",
     "iopub.status.idle": "2022-04-12T13:10:10.080728Z",
     "shell.execute_reply": "2022-04-12T13:10:10.080127Z",
     "shell.execute_reply.started": "2022-04-12T13:08:59.422808Z"
    },
    "papermill": {
     "duration": 0.562722,
     "end_time": "2022-04-12T13:10:10.080928",
     "exception": false,
     "start_time": "2022-04-12T13:10:09.518206",
     "status": "completed"
    },
    "tags": []
   },
   "outputs": [
    {
     "data": {
      "text/plain": [
       "<AxesSubplot:>"
      ]
     },
     "execution_count": 7,
     "metadata": {},
     "output_type": "execute_result"
    },
    {
     "data": {
      "image/png": "[encoded data removed]",
      "text/plain": [
       "<Figure size 576x396 with 2 Axes>"
      ]
     },
     "metadata": {},
     "output_type": "display_data"
    }
   ],
   "source": [
    "sns.heatmap(data.isna(), cmap=\"Blues\")"
   ]
  },
  {
   "cell_type": "markdown",
   "id": "25dd8bd4",
   "metadata": {
    "papermill": {
     "duration": 0.055728,
     "end_time": "2022-04-12T13:10:10.193636",
     "exception": false,
     "start_time": "2022-04-12T13:10:10.137908",
     "status": "completed"
    },
    "tags": []
   },
   "source": [
    "# Data Preparation\n",
    "In order to perform K-means clustering, we need to make sure that the features are normally distributed and there are not highly correlated features."
   ]
  },
  {
   "cell_type": "code",
   "execution_count": 8,
   "id": "beb5843b",
   "metadata": {
    "execution": {
     "iopub.execute_input": "2022-04-12T13:10:10.314825Z",
     "iopub.status.busy": "2022-04-12T13:10:10.314115Z",
     "iopub.status.idle": "2022-04-12T13:10:10.969343Z",
     "shell.execute_reply": "2022-04-12T13:10:10.969868Z",
     "shell.execute_reply.started": "2022-04-12T13:01:59.967776Z"
    },
    "papermill": {
     "duration": 0.720532,
     "end_time": "2022-04-12T13:10:10.970080",
     "exception": false,
     "start_time": "2022-04-12T13:10:10.249548",
     "status": "completed"
    },
    "tags": []
   },
   "outputs": [
    {
     "data": {
      "text/plain": [
       "Text(0.5, 1.0, ' Correlation Heatmap')"
      ]
     },
     "execution_count": 8,
     "metadata": {},
     "output_type": "execute_result"
    },
    {
     "data": {
      "image/png": "[encoded data removed]",
      "text/plain": [
       "<Figure size 864x360 with 1 Axes>"
      ]
     },
     "metadata": {},
     "output_type": "display_data"
    }
   ],
   "source": [
    "sns.set(rc={\"figure.figsize\":(12, 5)})\n",
    "sns.heatmap(data.corr(),annot = True, cbar = False, cmap = \"Blues\").set_title(\" Correlation Heatmap\" , fontdict={'fontsize':16}, pad=16)\n"
   ]
  },
  {
   "cell_type": "markdown",
   "id": "7193709b",
   "metadata": {
    "papermill": {
     "duration": 0.058828,
     "end_time": "2022-04-12T13:10:11.089531",
     "exception": false,
     "start_time": "2022-04-12T13:10:11.030703",
     "status": "completed"
    },
    "tags": []
   },
   "source": [
    "Life Expectancy and Total Fertility are **higlhy correlated** with Child Mortality. The coefficients are **-0.89 and 0.85**, respectively. Therefore, we have to remove these features."
   ]
  },
  {
   "cell_type": "code",
   "execution_count": 9,
   "id": "090257b4",
   "metadata": {
    "execution": {
     "iopub.execute_input": "2022-04-12T13:10:11.211606Z",
     "iopub.status.busy": "2022-04-12T13:10:11.210847Z",
     "iopub.status.idle": "2022-04-12T13:10:11.217542Z",
     "shell.execute_reply": "2022-04-12T13:10:11.218166Z",
     "shell.execute_reply.started": "2022-04-12T13:02:00.929052Z"
    },
    "papermill": {
     "duration": 0.069486,
     "end_time": "2022-04-12T13:10:11.218351",
     "exception": false,
     "start_time": "2022-04-12T13:10:11.148865",
     "status": "completed"
    },
    "tags": []
   },
   "outputs": [
    {
     "data": {
      "text/plain": [
       "(167, 6)"
      ]
     },
     "execution_count": 9,
     "metadata": {},
     "output_type": "execute_result"
    }
   ],
   "source": [
    "countries = data[\"country\"]\n",
    "data1 = data.drop(columns = [\"country\",\"life_expec\",\"total_fer\",\"income\"])\n",
    "data1.shape"
   ]
  },
  {
   "cell_type": "code",
   "execution_count": 10,
   "id": "7a743bf9",
   "metadata": {
    "execution": {
     "iopub.execute_input": "2022-04-12T13:10:11.491806Z",
     "iopub.status.busy": "2022-04-12T13:10:11.488489Z",
     "iopub.status.idle": "2022-04-12T13:10:11.804455Z",
     "shell.execute_reply": "2022-04-12T13:10:11.805050Z",
     "shell.execute_reply.started": "2022-04-12T13:02:00.940531Z"
    },
    "papermill": {
     "duration": 0.527226,
     "end_time": "2022-04-12T13:10:11.805249",
     "exception": false,
     "start_time": "2022-04-12T13:10:11.278023",
     "status": "completed"
    },
    "tags": []
   },
   "outputs": [
    {
     "data": {
      "text/plain": [
       "<AxesSubplot:xlabel='child_mort', ylabel='Density'>"
      ]
     },
     "execution_count": 10,
     "metadata": {},
     "output_type": "execute_result"
    },
    {
     "data": {
      "image/png": "[encoded data removed]",
      "text/plain": [
       "<Figure size 864x360 with 1 Axes>"
      ]
     },
     "metadata": {},
     "output_type": "display_data"
    }
   ],
   "source": [
    "sns.distplot(data1[\"child_mort\"])"
   ]
  },
  {
   "cell_type": "code",
   "execution_count": 11,
   "id": "4ef6fc9c",
   "metadata": {
    "execution": {
     "iopub.execute_input": "2022-04-12T13:10:11.932189Z",
     "iopub.status.busy": "2022-04-12T13:10:11.931448Z",
     "iopub.status.idle": "2022-04-12T13:10:12.244238Z",
     "shell.execute_reply": "2022-04-12T13:10:12.244765Z",
     "shell.execute_reply.started": "2022-04-12T13:02:01.430396Z"
    },
    "papermill": {
     "duration": 0.377508,
     "end_time": "2022-04-12T13:10:12.245024",
     "exception": false,
     "start_time": "2022-04-12T13:10:11.867516",
     "status": "completed"
    },
    "tags": []
   },
   "outputs": [
    {
     "data": {
      "text/plain": [
       "<AxesSubplot:xlabel='exports', ylabel='Density'>"
      ]
     },
     "execution_count": 11,
     "metadata": {},
     "output_type": "execute_result"
    },
    {
     "data": {
      "image/png": "[encoded data removed]",
      "text/plain": [
       "<Figure size 864x360 with 1 Axes>"
      ]
     },
     "metadata": {},
     "output_type": "display_data"
    }
   ],
   "source": [
    "sns.distplot(data1[\"exports\"])"
   ]
  },
  {
   "cell_type": "code",
   "execution_count": 12,
   "id": "37fc223c",
   "metadata": {
    "execution": {
     "iopub.execute_input": "2022-04-12T13:10:12.373082Z",
     "iopub.status.busy": "2022-04-12T13:10:12.372359Z",
     "iopub.status.idle": "2022-04-12T13:10:12.692201Z",
     "shell.execute_reply": "2022-04-12T13:10:12.691616Z",
     "shell.execute_reply.started": "2022-04-12T13:02:01.851067Z"
    },
    "papermill": {
     "duration": 0.384876,
     "end_time": "2022-04-12T13:10:12.692357",
     "exception": false,
     "start_time": "2022-04-12T13:10:12.307481",
     "status": "completed"
    },
    "tags": []
   },
   "outputs": [
    {
     "data": {
      "text/plain": [
       "<AxesSubplot:xlabel='health', ylabel='Density'>"
      ]
     },
     "execution_count": 12,
     "metadata": {},
     "output_type": "execute_result"
    },
    {
     "data": {
      "image/png": "[encoded data removed]",
      "text/plain": [
       "<Figure size 864x360 with 1 Axes>"
      ]
     },
     "metadata": {},
     "output_type": "display_data"
    }
   ],
   "source": [
    "sns.distplot(data1[\"health\"])"
   ]
  },
  {
   "cell_type": "code",
   "execution_count": 13,
   "id": "1eb2db8f",
   "metadata": {
    "execution": {
     "iopub.execute_input": "2022-04-12T13:10:12.840747Z",
     "iopub.status.busy": "2022-04-12T13:10:12.837511Z",
     "iopub.status.idle": "2022-04-12T13:10:13.152807Z",
     "shell.execute_reply": "2022-04-12T13:10:13.152214Z",
     "shell.execute_reply.started": "2022-04-12T13:02:07.370809Z"
    },
    "papermill": {
     "duration": 0.396207,
     "end_time": "2022-04-12T13:10:13.153116",
     "exception": false,
     "start_time": "2022-04-12T13:10:12.756909",
     "status": "completed"
    },
    "tags": []
   },
   "outputs": [
    {
     "data": {
      "text/plain": [
       "<AxesSubplot:xlabel='imports', ylabel='Density'>"
      ]
     },
     "execution_count": 13,
     "metadata": {},
     "output_type": "execute_result"
    },
    {
     "data": {
      "image/png": "[encoded data removed]",
      "text/plain": [
       "<Figure size 864x360 with 1 Axes>"
      ]
     },
     "metadata": {},
     "output_type": "display_data"
    }
   ],
   "source": [
    "sns.distplot(data1[\"imports\"])"
   ]
  },
  {
   "cell_type": "code",
   "execution_count": 14,
   "id": "4573b99c",
   "metadata": {
    "execution": {
     "iopub.execute_input": "2022-04-12T13:10:13.312087Z",
     "iopub.status.busy": "2022-04-12T13:10:13.310575Z",
     "iopub.status.idle": "2022-04-12T13:10:13.672120Z",
     "shell.execute_reply": "2022-04-12T13:10:13.672693Z",
     "shell.execute_reply.started": "2022-04-12T13:02:08.502391Z"
    },
    "papermill": {
     "duration": 0.453329,
     "end_time": "2022-04-12T13:10:13.672896",
     "exception": false,
     "start_time": "2022-04-12T13:10:13.219567",
     "status": "completed"
    },
    "tags": []
   },
   "outputs": [
    {
     "data": {
      "text/plain": [
       "<AxesSubplot:xlabel='inflation', ylabel='Density'>"
      ]
     },
     "execution_count": 14,
     "metadata": {},
     "output_type": "execute_result"
    },
    {
     "data": {
      "image/png": "[encoded data removed]",
      "text/plain": [
       "<Figure size 864x360 with 1 Axes>"
      ]
     },
     "metadata": {},
     "output_type": "display_data"
    }
   ],
   "source": [
    "sns.distplot(data1[\"inflation\"])"
   ]
  },
  {
   "cell_type": "code",
   "execution_count": 15,
   "id": "dc23f684",
   "metadata": {
    "execution": {
     "iopub.execute_input": "2022-04-12T13:10:13.813391Z",
     "iopub.status.busy": "2022-04-12T13:10:13.812641Z",
     "iopub.status.idle": "2022-04-12T13:10:14.117178Z",
     "shell.execute_reply": "2022-04-12T13:10:14.117706Z",
     "shell.execute_reply.started": "2022-04-12T13:02:09.005747Z"
    },
    "papermill": {
     "duration": 0.376517,
     "end_time": "2022-04-12T13:10:14.117935",
     "exception": false,
     "start_time": "2022-04-12T13:10:13.741418",
     "status": "completed"
    },
    "tags": []
   },
   "outputs": [
    {
     "data": {
      "text/plain": [
       "<AxesSubplot:xlabel='gdpp', ylabel='Density'>"
      ]
     },
     "execution_count": 15,
     "metadata": {},
     "output_type": "execute_result"
    },
    {
     "data": {
      "image/png": "[encoded data removed]",
      "text/plain": [
       "<Figure size 864x360 with 1 Axes>"
      ]
     },
     "metadata": {},
     "output_type": "display_data"
    }
   ],
   "source": [
    "sns.distplot(data1[\"gdpp\"])"
   ]
  },
  {
   "cell_type": "markdown",
   "id": "5b41f52e",
   "metadata": {
    "papermill": {
     "duration": 0.068522,
     "end_time": "2022-04-12T13:10:14.256254",
     "exception": false,
     "start_time": "2022-04-12T13:10:14.187732",
     "status": "completed"
    },
    "tags": []
   },
   "source": [
    "Some are close to normal, while others are very higlhy skewed. We have to scale every feature. "
   ]
  },
  {
   "cell_type": "code",
   "execution_count": 16,
   "id": "e1fd782a",
   "metadata": {
    "execution": {
     "iopub.execute_input": "2022-04-12T13:10:14.403915Z",
     "iopub.status.busy": "2022-04-12T13:10:14.403128Z",
     "iopub.status.idle": "2022-04-12T13:10:14.404875Z",
     "shell.execute_reply": "2022-04-12T13:10:14.405384Z",
     "shell.execute_reply.started": "2022-04-12T13:02:09.473441Z"
    },
    "papermill": {
     "duration": 0.080885,
     "end_time": "2022-04-12T13:10:14.405577",
     "exception": false,
     "start_time": "2022-04-12T13:10:14.324692",
     "status": "completed"
    },
    "tags": []
   },
   "outputs": [],
   "source": [
    "scaler = StandardScaler()\n",
    "scaler.fit(data1)\n",
    "data1 = scaler.transform(data1)"
   ]
  },
  {
   "cell_type": "code",
   "execution_count": null,
   "id": "90d22e98",
   "metadata": {
    "papermill": {
     "duration": 0.086495,
     "end_time": "2022-04-12T13:10:14.574137",
     "exception": false,
     "start_time": "2022-04-12T13:10:14.487642",
     "status": "completed"
    },
    "tags": []
   },
   "outputs": [],
   "source": []
  },
  {
   "cell_type": "markdown",
   "id": "d0e8a0b1",
   "metadata": {
    "papermill": {
     "duration": 0.072268,
     "end_time": "2022-04-12T13:10:14.724357",
     "exception": false,
     "start_time": "2022-04-12T13:10:14.652089",
     "status": "completed"
    },
    "tags": []
   },
   "source": [
    "# Modeling"
   ]
  },
  {
   "cell_type": "markdown",
   "id": "75b17479",
   "metadata": {
    "papermill": {
     "duration": 0.06859,
     "end_time": "2022-04-12T13:10:14.870641",
     "exception": false,
     "start_time": "2022-04-12T13:10:14.802051",
     "status": "completed"
    },
    "tags": []
   },
   "source": []
  },
  {
   "cell_type": "code",
   "execution_count": null,
   "id": "68bd0cec",
   "metadata": {
    "papermill": {
     "duration": 0.068107,
     "end_time": "2022-04-12T13:10:15.007510",
     "exception": false,
     "start_time": "2022-04-12T13:10:14.939403",
     "status": "completed"
    },
    "tags": []
   },
   "outputs": [],
   "source": []
  },
  {
   "cell_type": "markdown",
   "id": "d29f72cd",
   "metadata": {
    "papermill": {
     "duration": 0.06845,
     "end_time": "2022-04-12T13:10:15.145805",
     "exception": false,
     "start_time": "2022-04-12T13:10:15.077355",
     "status": "completed"
    },
    "tags": []
   },
   "source": []
  },
  {
   "cell_type": "markdown",
   "id": "c778f887",
   "metadata": {
    "papermill": {
     "duration": 0.071488,
     "end_time": "2022-04-12T13:10:15.288049",
     "exception": false,
     "start_time": "2022-04-12T13:10:15.216561",
     "status": "completed"
    },
    "tags": []
   },
   "source": []
  },
  {
   "cell_type": "markdown",
   "id": "c5b09fb2",
   "metadata": {
    "papermill": {
     "duration": 0.06896,
     "end_time": "2022-04-12T13:10:15.425427",
     "exception": false,
     "start_time": "2022-04-12T13:10:15.356467",
     "status": "completed"
    },
    "tags": []
   },
   "source": [
    "## Elbow Method for Optimal Clusters"
   ]
  },
  {
   "cell_type": "code",
   "execution_count": 17,
   "id": "2cabd177",
   "metadata": {
    "execution": {
     "iopub.execute_input": "2022-04-12T13:10:15.570413Z",
     "iopub.status.busy": "2022-04-12T13:10:15.569309Z",
     "iopub.status.idle": "2022-04-12T13:10:17.059948Z",
     "shell.execute_reply": "2022-04-12T13:10:17.059304Z",
     "shell.execute_reply.started": "2022-04-12T13:02:11.482356Z"
    },
    "papermill": {
     "duration": 1.565664,
     "end_time": "2022-04-12T13:10:17.060122",
     "exception": false,
     "start_time": "2022-04-12T13:10:15.494458",
     "status": "completed"
    },
    "tags": []
   },
   "outputs": [
    {
     "data": {
      "image/png": "[encoded data removed]",
      "text/plain": [
       "<Figure size 864x360 with 2 Axes>"
      ]
     },
     "metadata": {},
     "output_type": "display_data"
    },
    {
     "data": {
      "text/plain": [
       "<AxesSubplot:title={'center':'Distortion Score Elbow for KMeans Clustering'}, xlabel='k', ylabel='distortion score'>"
      ]
     },
     "execution_count": 17,
     "metadata": {},
     "output_type": "execute_result"
    }
   ],
   "source": [
    "model = KMeans()\n",
    "visualize = KElbowVisualizer(model, k=(1,10))\n",
    "visualize.fit(data1)\n",
    "visualize.poof()"
   ]
  },
  {
   "cell_type": "markdown",
   "id": "ddd798d6",
   "metadata": {
    "papermill": {
     "duration": 0.070628,
     "end_time": "2022-04-12T13:10:17.203404",
     "exception": false,
     "start_time": "2022-04-12T13:10:17.132776",
     "status": "completed"
    },
    "tags": []
   },
   "source": []
  },
  {
   "cell_type": "code",
   "execution_count": 18,
   "id": "80ad9ded",
   "metadata": {
    "execution": {
     "iopub.execute_input": "2022-04-12T13:10:17.353258Z",
     "iopub.status.busy": "2022-04-12T13:10:17.352073Z",
     "iopub.status.idle": "2022-04-12T13:10:17.399708Z",
     "shell.execute_reply": "2022-04-12T13:10:17.400336Z",
     "shell.execute_reply.started": "2022-04-12T13:02:13.201528Z"
    },
    "papermill": {
     "duration": 0.125169,
     "end_time": "2022-04-12T13:10:17.400554",
     "exception": false,
     "start_time": "2022-04-12T13:10:17.275385",
     "status": "completed"
    },
    "tags": []
   },
   "outputs": [
    {
     "data": {
      "text/plain": [
       "KMeans(n_clusters=4, random_state=17093)"
      ]
     },
     "execution_count": 18,
     "metadata": {},
     "output_type": "execute_result"
    }
   ],
   "source": [
    "model = KMeans(n_clusters=4, random_state=17093)\n",
    "model.fit(data1)"
   ]
  },
  {
   "cell_type": "code",
   "execution_count": 19,
   "id": "b89be046",
   "metadata": {
    "execution": {
     "iopub.execute_input": "2022-04-12T13:10:17.559428Z",
     "iopub.status.busy": "2022-04-12T13:10:17.558330Z",
     "iopub.status.idle": "2022-04-12T13:10:17.567919Z",
     "shell.execute_reply": "2022-04-12T13:10:17.568490Z",
     "shell.execute_reply.started": "2022-04-12T13:02:13.285509Z"
    },
    "papermill": {
     "duration": 0.095289,
     "end_time": "2022-04-12T13:10:17.568674",
     "exception": false,
     "start_time": "2022-04-12T13:10:17.473385",
     "status": "completed"
    },
    "tags": []
   },
   "outputs": [
    {
     "data": {
      "text/html": [
       "<div>\n",
       "<style scoped>\n",
       "    .dataframe tbody tr th:only-of-type {\n",
       "        vertical-align: middle;\n",
       "    }\n",
       "\n",
       "    .dataframe tbody tr th {\n",
       "        vertical-align: top;\n",
       "    }\n",
       "\n",
       "    .dataframe thead th {\n",
       "        text-align: right;\n",
       "    }\n",
       "</style>\n",
       "<table border=\"1\" class=\"dataframe\">\n",
       "  <thead>\n",
       "    <tr style=\"text-align: right;\">\n",
       "      <th></th>\n",
       "      <th>country</th>\n",
       "      <th>child_mort</th>\n",
       "      <th>exports</th>\n",
       "      <th>health</th>\n",
       "      <th>imports</th>\n",
       "      <th>income</th>\n",
       "      <th>inflation</th>\n",
       "      <th>life_expec</th>\n",
       "      <th>total_fer</th>\n",
       "      <th>gdpp</th>\n",
       "      <th>clusters</th>\n",
       "    </tr>\n",
       "  </thead>\n",
       "  <tbody>\n",
       "    <tr>\n",
       "      <th>0</th>\n",
       "      <td>Afghanistan</td>\n",
       "      <td>90.2</td>\n",
       "      <td>10.0</td>\n",
       "      <td>7.58</td>\n",
       "      <td>44.9</td>\n",
       "      <td>1610</td>\n",
       "      <td>9.44</td>\n",
       "      <td>56.2</td>\n",
       "      <td>5.82</td>\n",
       "      <td>553</td>\n",
       "      <td>1</td>\n",
       "    </tr>\n",
       "    <tr>\n",
       "      <th>1</th>\n",
       "      <td>Albania</td>\n",
       "      <td>16.6</td>\n",
       "      <td>28.0</td>\n",
       "      <td>6.55</td>\n",
       "      <td>48.6</td>\n",
       "      <td>9930</td>\n",
       "      <td>4.49</td>\n",
       "      <td>76.3</td>\n",
       "      <td>1.65</td>\n",
       "      <td>4090</td>\n",
       "      <td>3</td>\n",
       "    </tr>\n",
       "    <tr>\n",
       "      <th>2</th>\n",
       "      <td>Algeria</td>\n",
       "      <td>27.3</td>\n",
       "      <td>38.4</td>\n",
       "      <td>4.17</td>\n",
       "      <td>31.4</td>\n",
       "      <td>12900</td>\n",
       "      <td>16.10</td>\n",
       "      <td>76.5</td>\n",
       "      <td>2.89</td>\n",
       "      <td>4460</td>\n",
       "      <td>1</td>\n",
       "    </tr>\n",
       "    <tr>\n",
       "      <th>3</th>\n",
       "      <td>Angola</td>\n",
       "      <td>119.0</td>\n",
       "      <td>62.3</td>\n",
       "      <td>2.85</td>\n",
       "      <td>42.9</td>\n",
       "      <td>5900</td>\n",
       "      <td>22.40</td>\n",
       "      <td>60.1</td>\n",
       "      <td>6.16</td>\n",
       "      <td>3530</td>\n",
       "      <td>1</td>\n",
       "    </tr>\n",
       "    <tr>\n",
       "      <th>4</th>\n",
       "      <td>Antigua and Barbuda</td>\n",
       "      <td>10.3</td>\n",
       "      <td>45.5</td>\n",
       "      <td>6.03</td>\n",
       "      <td>58.9</td>\n",
       "      <td>19100</td>\n",
       "      <td>1.44</td>\n",
       "      <td>76.8</td>\n",
       "      <td>2.13</td>\n",
       "      <td>12200</td>\n",
       "      <td>3</td>\n",
       "    </tr>\n",
       "  </tbody>\n",
       "</table>\n",
       "</div>"
      ],
      "text/plain": [
       "               country  child_mort  exports  health  imports  income  \\\n",
       "0          Afghanistan        90.2     10.0    7.58     44.9    1610   \n",
       "1              Albania        16.6     28.0    6.55     48.6    9930   \n",
       "2              Algeria        27.3     38.4    4.17     31.4   12900   \n",
       "3               Angola       119.0     62.3    2.85     42.9    5900   \n",
       "4  Antigua and Barbuda        10.3     45.5    6.03     58.9   19100   \n",
       "\n",
       "   inflation  life_expec  total_fer   gdpp  clusters  \n",
       "0       9.44        56.2       5.82    553         1  \n",
       "1       4.49        76.3       1.65   4090         3  \n",
       "2      16.10        76.5       2.89   4460         1  \n",
       "3      22.40        60.1       6.16   3530         1  \n",
       "4       1.44        76.8       2.13  12200         3  "
      ]
     },
     "execution_count": 19,
     "metadata": {},
     "output_type": "execute_result"
    }
   ],
   "source": [
    "data[\"clusters\"] = model.labels_\n",
    "data.head()"
   ]
  },
  {
   "cell_type": "code",
   "execution_count": null,
   "id": "cec582ce",
   "metadata": {
    "papermill": {
     "duration": 0.0716,
     "end_time": "2022-04-12T13:10:17.712715",
     "exception": false,
     "start_time": "2022-04-12T13:10:17.641115",
     "status": "completed"
    },
    "tags": []
   },
   "outputs": [],
   "source": []
  },
  {
   "cell_type": "markdown",
   "id": "b8364823",
   "metadata": {
    "papermill": {
     "duration": 0.071273,
     "end_time": "2022-04-12T13:10:17.856290",
     "exception": false,
     "start_time": "2022-04-12T13:10:17.785017",
     "status": "completed"
    },
    "tags": []
   },
   "source": [
    "# Evaluation"
   ]
  },
  {
   "cell_type": "code",
   "execution_count": 20,
   "id": "b8d825d9",
   "metadata": {
    "execution": {
     "iopub.execute_input": "2022-04-12T13:10:18.005607Z",
     "iopub.status.busy": "2022-04-12T13:10:18.004500Z",
     "iopub.status.idle": "2022-04-12T13:10:18.012504Z",
     "shell.execute_reply": "2022-04-12T13:10:18.013097Z",
     "shell.execute_reply.started": "2022-04-12T13:02:13.323084Z"
    },
    "papermill": {
     "duration": 0.084711,
     "end_time": "2022-04-12T13:10:18.013292",
     "exception": false,
     "start_time": "2022-04-12T13:10:17.928581",
     "status": "completed"
    },
    "tags": []
   },
   "outputs": [
    {
     "data": {
      "text/plain": [
       "3    70\n",
       "1    69\n",
       "0    25\n",
       "2     3\n",
       "Name: clusters, dtype: int64"
      ]
     },
     "execution_count": 20,
     "metadata": {},
     "output_type": "execute_result"
    }
   ],
   "source": [
    "data[\"clusters\"].value_counts()\n"
   ]
  },
  {
   "cell_type": "markdown",
   "id": "0d366dc8",
   "metadata": {
    "papermill": {
     "duration": 0.071915,
     "end_time": "2022-04-12T13:10:18.157973",
     "exception": false,
     "start_time": "2022-04-12T13:10:18.086058",
     "status": "completed"
    },
    "tags": []
   },
   "source": []
  },
  {
   "cell_type": "markdown",
   "id": "400bf025",
   "metadata": {
    "papermill": {
     "duration": 0.072623,
     "end_time": "2022-04-12T13:10:18.303906",
     "exception": false,
     "start_time": "2022-04-12T13:10:18.231283",
     "status": "completed"
    },
    "tags": []
   },
   "source": [
    "### Cluster 1"
   ]
  },
  {
   "cell_type": "code",
   "execution_count": 21,
   "id": "ae5e7f51",
   "metadata": {
    "execution": {
     "iopub.execute_input": "2022-04-12T13:10:18.454127Z",
     "iopub.status.busy": "2022-04-12T13:10:18.453106Z",
     "iopub.status.idle": "2022-04-12T13:10:18.463318Z",
     "shell.execute_reply": "2022-04-12T13:10:18.462694Z",
     "shell.execute_reply.started": "2022-04-12T13:02:13.337646Z"
    },
    "papermill": {
     "duration": 0.086436,
     "end_time": "2022-04-12T13:10:18.463479",
     "exception": false,
     "start_time": "2022-04-12T13:10:18.377043",
     "status": "completed"
    },
    "tags": []
   },
   "outputs": [
    {
     "data": {
      "text/plain": [
       "(25, 11)"
      ]
     },
     "execution_count": 21,
     "metadata": {},
     "output_type": "execute_result"
    }
   ],
   "source": [
    "cluster1  = data[data.clusters == 0]\n",
    "cluster1.shape"
   ]
  },
  {
   "cell_type": "code",
   "execution_count": 22,
   "id": "07bd9432",
   "metadata": {
    "execution": {
     "iopub.execute_input": "2022-04-12T13:10:18.628525Z",
     "iopub.status.busy": "2022-04-12T13:10:18.627592Z",
     "iopub.status.idle": "2022-04-12T13:10:18.631076Z",
     "shell.execute_reply": "2022-04-12T13:10:18.631556Z",
     "shell.execute_reply.started": "2022-04-12T13:02:13.359284Z"
    },
    "papermill": {
     "duration": 0.095062,
     "end_time": "2022-04-12T13:10:18.631744",
     "exception": false,
     "start_time": "2022-04-12T13:10:18.536682",
     "status": "completed"
    },
    "tags": []
   },
   "outputs": [
    {
     "data": {
      "text/html": [
       "<div>\n",
       "<style scoped>\n",
       "    .dataframe tbody tr th:only-of-type {\n",
       "        vertical-align: middle;\n",
       "    }\n",
       "\n",
       "    .dataframe tbody tr th {\n",
       "        vertical-align: top;\n",
       "    }\n",
       "\n",
       "    .dataframe thead th {\n",
       "        text-align: right;\n",
       "    }\n",
       "</style>\n",
       "<table border=\"1\" class=\"dataframe\">\n",
       "  <thead>\n",
       "    <tr style=\"text-align: right;\">\n",
       "      <th></th>\n",
       "      <th>country</th>\n",
       "      <th>child_mort</th>\n",
       "      <th>exports</th>\n",
       "      <th>health</th>\n",
       "      <th>imports</th>\n",
       "      <th>income</th>\n",
       "      <th>inflation</th>\n",
       "      <th>life_expec</th>\n",
       "      <th>total_fer</th>\n",
       "      <th>gdpp</th>\n",
       "      <th>clusters</th>\n",
       "    </tr>\n",
       "  </thead>\n",
       "  <tbody>\n",
       "    <tr>\n",
       "      <th>7</th>\n",
       "      <td>Australia</td>\n",
       "      <td>4.8</td>\n",
       "      <td>19.8</td>\n",
       "      <td>8.73</td>\n",
       "      <td>20.9</td>\n",
       "      <td>41400</td>\n",
       "      <td>1.160</td>\n",
       "      <td>82.0</td>\n",
       "      <td>1.93</td>\n",
       "      <td>51900</td>\n",
       "      <td>0</td>\n",
       "    </tr>\n",
       "    <tr>\n",
       "      <th>8</th>\n",
       "      <td>Austria</td>\n",
       "      <td>4.3</td>\n",
       "      <td>51.3</td>\n",
       "      <td>11.00</td>\n",
       "      <td>47.8</td>\n",
       "      <td>43200</td>\n",
       "      <td>0.873</td>\n",
       "      <td>80.5</td>\n",
       "      <td>1.44</td>\n",
       "      <td>46900</td>\n",
       "      <td>0</td>\n",
       "    </tr>\n",
       "    <tr>\n",
       "      <th>10</th>\n",
       "      <td>Bahamas</td>\n",
       "      <td>13.8</td>\n",
       "      <td>35.0</td>\n",
       "      <td>7.89</td>\n",
       "      <td>43.7</td>\n",
       "      <td>22900</td>\n",
       "      <td>-0.393</td>\n",
       "      <td>73.8</td>\n",
       "      <td>1.86</td>\n",
       "      <td>28000</td>\n",
       "      <td>0</td>\n",
       "    </tr>\n",
       "    <tr>\n",
       "      <th>15</th>\n",
       "      <td>Belgium</td>\n",
       "      <td>4.5</td>\n",
       "      <td>76.4</td>\n",
       "      <td>10.70</td>\n",
       "      <td>74.7</td>\n",
       "      <td>41100</td>\n",
       "      <td>1.880</td>\n",
       "      <td>80.0</td>\n",
       "      <td>1.86</td>\n",
       "      <td>44400</td>\n",
       "      <td>0</td>\n",
       "    </tr>\n",
       "    <tr>\n",
       "      <th>29</th>\n",
       "      <td>Canada</td>\n",
       "      <td>5.6</td>\n",
       "      <td>29.1</td>\n",
       "      <td>11.30</td>\n",
       "      <td>31.0</td>\n",
       "      <td>40700</td>\n",
       "      <td>2.870</td>\n",
       "      <td>81.3</td>\n",
       "      <td>1.63</td>\n",
       "      <td>47400</td>\n",
       "      <td>0</td>\n",
       "    </tr>\n",
       "  </tbody>\n",
       "</table>\n",
       "</div>"
      ],
      "text/plain": [
       "      country  child_mort  exports  health  imports  income  inflation  \\\n",
       "7   Australia         4.8     19.8    8.73     20.9   41400      1.160   \n",
       "8     Austria         4.3     51.3   11.00     47.8   43200      0.873   \n",
       "10    Bahamas        13.8     35.0    7.89     43.7   22900     -0.393   \n",
       "15    Belgium         4.5     76.4   10.70     74.7   41100      1.880   \n",
       "29     Canada         5.6     29.1   11.30     31.0   40700      2.870   \n",
       "\n",
       "    life_expec  total_fer   gdpp  clusters  \n",
       "7         82.0       1.93  51900         0  \n",
       "8         80.5       1.44  46900         0  \n",
       "10        73.8       1.86  28000         0  \n",
       "15        80.0       1.86  44400         0  \n",
       "29        81.3       1.63  47400         0  "
      ]
     },
     "execution_count": 22,
     "metadata": {},
     "output_type": "execute_result"
    }
   ],
   "source": [
    "cluster1.head()"
   ]
  },
  {
   "cell_type": "code",
   "execution_count": 23,
   "id": "1bb03a7d",
   "metadata": {
    "execution": {
     "iopub.execute_input": "2022-04-12T13:10:18.784528Z",
     "iopub.status.busy": "2022-04-12T13:10:18.783767Z",
     "iopub.status.idle": "2022-04-12T13:10:18.789034Z",
     "shell.execute_reply": "2022-04-12T13:10:18.789624Z",
     "shell.execute_reply.started": "2022-04-12T13:02:13.458106Z"
    },
    "papermill": {
     "duration": 0.083954,
     "end_time": "2022-04-12T13:10:18.789806",
     "exception": false,
     "start_time": "2022-04-12T13:10:18.705852",
     "status": "completed"
    },
    "tags": []
   },
   "outputs": [
    {
     "data": {
      "text/plain": [
       "['Australia',\n",
       " 'Austria',\n",
       " 'Bahamas',\n",
       " 'Belgium',\n",
       " 'Canada',\n",
       " 'Denmark',\n",
       " 'Finland',\n",
       " 'France',\n",
       " 'Germany',\n",
       " 'Greece',\n",
       " 'Iceland',\n",
       " 'Ireland',\n",
       " 'Israel',\n",
       " 'Italy',\n",
       " 'Japan',\n",
       " 'Netherlands',\n",
       " 'New Zealand',\n",
       " 'Norway',\n",
       " 'Portugal',\n",
       " 'Qatar',\n",
       " 'Spain',\n",
       " 'Sweden',\n",
       " 'Switzerland',\n",
       " 'United Kingdom',\n",
       " 'United States']"
      ]
     },
     "execution_count": 23,
     "metadata": {},
     "output_type": "execute_result"
    }
   ],
   "source": [
    "list(cluster1[\"country\"])"
   ]
  },
  {
   "cell_type": "code",
   "execution_count": 24,
   "id": "f8e5dc1c",
   "metadata": {
    "execution": {
     "iopub.execute_input": "2022-04-12T13:10:18.941853Z",
     "iopub.status.busy": "2022-04-12T13:10:18.941118Z",
     "iopub.status.idle": "2022-04-12T13:10:18.977791Z",
     "shell.execute_reply": "2022-04-12T13:10:18.978398Z",
     "shell.execute_reply.started": "2022-04-12T13:02:13.60969Z"
    },
    "papermill": {
     "duration": 0.114837,
     "end_time": "2022-04-12T13:10:18.978629",
     "exception": false,
     "start_time": "2022-04-12T13:10:18.863792",
     "status": "completed"
    },
    "tags": []
   },
   "outputs": [
    {
     "data": {
      "text/html": [
       "<div>\n",
       "<style scoped>\n",
       "    .dataframe tbody tr th:only-of-type {\n",
       "        vertical-align: middle;\n",
       "    }\n",
       "\n",
       "    .dataframe tbody tr th {\n",
       "        vertical-align: top;\n",
       "    }\n",
       "\n",
       "    .dataframe thead th {\n",
       "        text-align: right;\n",
       "    }\n",
       "</style>\n",
       "<table border=\"1\" class=\"dataframe\">\n",
       "  <thead>\n",
       "    <tr style=\"text-align: right;\">\n",
       "      <th></th>\n",
       "      <th>child_mort</th>\n",
       "      <th>exports</th>\n",
       "      <th>health</th>\n",
       "      <th>imports</th>\n",
       "      <th>income</th>\n",
       "      <th>inflation</th>\n",
       "      <th>life_expec</th>\n",
       "      <th>total_fer</th>\n",
       "      <th>gdpp</th>\n",
       "      <th>clusters</th>\n",
       "    </tr>\n",
       "  </thead>\n",
       "  <tbody>\n",
       "    <tr>\n",
       "      <th>count</th>\n",
       "      <td>25.000000</td>\n",
       "      <td>25.000000</td>\n",
       "      <td>25.000000</td>\n",
       "      <td>25.000000</td>\n",
       "      <td>25.000000</td>\n",
       "      <td>25.000000</td>\n",
       "      <td>25.000000</td>\n",
       "      <td>25.00000</td>\n",
       "      <td>25.000000</td>\n",
       "      <td>25.0</td>\n",
       "    </tr>\n",
       "    <tr>\n",
       "      <th>mean</th>\n",
       "      <td>4.864000</td>\n",
       "      <td>41.364000</td>\n",
       "      <td>10.060400</td>\n",
       "      <td>37.888000</td>\n",
       "      <td>42960.000000</td>\n",
       "      <td>1.491600</td>\n",
       "      <td>80.552000</td>\n",
       "      <td>1.82320</td>\n",
       "      <td>45716.000000</td>\n",
       "      <td>0.0</td>\n",
       "    </tr>\n",
       "    <tr>\n",
       "      <th>std</th>\n",
       "      <td>2.321795</td>\n",
       "      <td>21.438514</td>\n",
       "      <td>2.603642</td>\n",
       "      <td>17.172903</td>\n",
       "      <td>19146.714252</td>\n",
       "      <td>2.258291</td>\n",
       "      <td>1.720736</td>\n",
       "      <td>0.36793</td>\n",
       "      <td>15125.190908</td>\n",
       "      <td>0.0</td>\n",
       "    </tr>\n",
       "    <tr>\n",
       "      <th>min</th>\n",
       "      <td>2.600000</td>\n",
       "      <td>12.400000</td>\n",
       "      <td>1.810000</td>\n",
       "      <td>13.600000</td>\n",
       "      <td>22900.000000</td>\n",
       "      <td>-3.220000</td>\n",
       "      <td>73.800000</td>\n",
       "      <td>1.37000</td>\n",
       "      <td>22500.000000</td>\n",
       "      <td>0.0</td>\n",
       "    </tr>\n",
       "    <tr>\n",
       "      <th>25%</th>\n",
       "      <td>3.900000</td>\n",
       "      <td>26.800000</td>\n",
       "      <td>9.400000</td>\n",
       "      <td>28.000000</td>\n",
       "      <td>35800.000000</td>\n",
       "      <td>0.351000</td>\n",
       "      <td>80.000000</td>\n",
       "      <td>1.48000</td>\n",
       "      <td>35800.000000</td>\n",
       "      <td>0.0</td>\n",
       "    </tr>\n",
       "    <tr>\n",
       "      <th>50%</th>\n",
       "      <td>4.200000</td>\n",
       "      <td>35.000000</td>\n",
       "      <td>9.640000</td>\n",
       "      <td>32.900000</td>\n",
       "      <td>40400.000000</td>\n",
       "      <td>0.991000</td>\n",
       "      <td>80.700000</td>\n",
       "      <td>1.87000</td>\n",
       "      <td>44500.000000</td>\n",
       "      <td>0.0</td>\n",
       "    </tr>\n",
       "    <tr>\n",
       "      <th>75%</th>\n",
       "      <td>4.800000</td>\n",
       "      <td>51.300000</td>\n",
       "      <td>11.300000</td>\n",
       "      <td>43.600000</td>\n",
       "      <td>44000.000000</td>\n",
       "      <td>1.880000</td>\n",
       "      <td>81.500000</td>\n",
       "      <td>1.98000</td>\n",
       "      <td>50300.000000</td>\n",
       "      <td>0.0</td>\n",
       "    </tr>\n",
       "    <tr>\n",
       "      <th>max</th>\n",
       "      <td>13.800000</td>\n",
       "      <td>103.000000</td>\n",
       "      <td>17.900000</td>\n",
       "      <td>86.500000</td>\n",
       "      <td>125000.000000</td>\n",
       "      <td>6.980000</td>\n",
       "      <td>82.800000</td>\n",
       "      <td>3.03000</td>\n",
       "      <td>87800.000000</td>\n",
       "      <td>0.0</td>\n",
       "    </tr>\n",
       "  </tbody>\n",
       "</table>\n",
       "</div>"
      ],
      "text/plain": [
       "       child_mort     exports     health    imports         income  inflation  \\\n",
       "count   25.000000   25.000000  25.000000  25.000000      25.000000  25.000000   \n",
       "mean     4.864000   41.364000  10.060400  37.888000   42960.000000   1.491600   \n",
       "std      2.321795   21.438514   2.603642  17.172903   19146.714252   2.258291   \n",
       "min      2.600000   12.400000   1.810000  13.600000   22900.000000  -3.220000   \n",
       "25%      3.900000   26.800000   9.400000  28.000000   35800.000000   0.351000   \n",
       "50%      4.200000   35.000000   9.640000  32.900000   40400.000000   0.991000   \n",
       "75%      4.800000   51.300000  11.300000  43.600000   44000.000000   1.880000   \n",
       "max     13.800000  103.000000  17.900000  86.500000  125000.000000   6.980000   \n",
       "\n",
       "       life_expec  total_fer          gdpp  clusters  \n",
       "count   25.000000   25.00000     25.000000      25.0  \n",
       "mean    80.552000    1.82320  45716.000000       0.0  \n",
       "std      1.720736    0.36793  15125.190908       0.0  \n",
       "min     73.800000    1.37000  22500.000000       0.0  \n",
       "25%     80.000000    1.48000  35800.000000       0.0  \n",
       "50%     80.700000    1.87000  44500.000000       0.0  \n",
       "75%     81.500000    1.98000  50300.000000       0.0  \n",
       "max     82.800000    3.03000  87800.000000       0.0  "
      ]
     },
     "execution_count": 24,
     "metadata": {},
     "output_type": "execute_result"
    }
   ],
   "source": [
    "cluster1.describe()"
   ]
  },
  {
   "cell_type": "markdown",
   "id": "b6c6b4ca",
   "metadata": {
    "papermill": {
     "duration": 0.07394,
     "end_time": "2022-04-12T13:10:19.127194",
     "exception": false,
     "start_time": "2022-04-12T13:10:19.053254",
     "status": "completed"
    },
    "tags": []
   },
   "source": [
    "### Cluster 2"
   ]
  },
  {
   "cell_type": "code",
   "execution_count": 25,
   "id": "5bb25d34",
   "metadata": {
    "execution": {
     "iopub.execute_input": "2022-04-12T13:10:19.282222Z",
     "iopub.status.busy": "2022-04-12T13:10:19.281190Z",
     "iopub.status.idle": "2022-04-12T13:10:19.287661Z",
     "shell.execute_reply": "2022-04-12T13:10:19.288135Z",
     "shell.execute_reply.started": "2022-04-12T13:02:13.963467Z"
    },
    "papermill": {
     "duration": 0.085599,
     "end_time": "2022-04-12T13:10:19.288339",
     "exception": false,
     "start_time": "2022-04-12T13:10:19.202740",
     "status": "completed"
    },
    "tags": []
   },
   "outputs": [
    {
     "data": {
      "text/plain": [
       "(69, 11)"
      ]
     },
     "execution_count": 25,
     "metadata": {},
     "output_type": "execute_result"
    }
   ],
   "source": [
    "cluster2  = data[data.clusters == 1]\n",
    "cluster2.shape"
   ]
  },
  {
   "cell_type": "code",
   "execution_count": 26,
   "id": "01dffd0a",
   "metadata": {
    "execution": {
     "iopub.execute_input": "2022-04-12T13:10:19.442214Z",
     "iopub.status.busy": "2022-04-12T13:10:19.441482Z",
     "iopub.status.idle": "2022-04-12T13:10:19.458140Z",
     "shell.execute_reply": "2022-04-12T13:10:19.458785Z",
     "shell.execute_reply.started": "2022-04-12T13:02:14.155996Z"
    },
    "papermill": {
     "duration": 0.095069,
     "end_time": "2022-04-12T13:10:19.458995",
     "exception": false,
     "start_time": "2022-04-12T13:10:19.363926",
     "status": "completed"
    },
    "tags": []
   },
   "outputs": [
    {
     "data": {
      "text/html": [
       "<div>\n",
       "<style scoped>\n",
       "    .dataframe tbody tr th:only-of-type {\n",
       "        vertical-align: middle;\n",
       "    }\n",
       "\n",
       "    .dataframe tbody tr th {\n",
       "        vertical-align: top;\n",
       "    }\n",
       "\n",
       "    .dataframe thead th {\n",
       "        text-align: right;\n",
       "    }\n",
       "</style>\n",
       "<table border=\"1\" class=\"dataframe\">\n",
       "  <thead>\n",
       "    <tr style=\"text-align: right;\">\n",
       "      <th></th>\n",
       "      <th>country</th>\n",
       "      <th>child_mort</th>\n",
       "      <th>exports</th>\n",
       "      <th>health</th>\n",
       "      <th>imports</th>\n",
       "      <th>income</th>\n",
       "      <th>inflation</th>\n",
       "      <th>life_expec</th>\n",
       "      <th>total_fer</th>\n",
       "      <th>gdpp</th>\n",
       "      <th>clusters</th>\n",
       "    </tr>\n",
       "  </thead>\n",
       "  <tbody>\n",
       "    <tr>\n",
       "      <th>0</th>\n",
       "      <td>Afghanistan</td>\n",
       "      <td>90.2</td>\n",
       "      <td>10.0</td>\n",
       "      <td>7.58</td>\n",
       "      <td>44.9</td>\n",
       "      <td>1610</td>\n",
       "      <td>9.44</td>\n",
       "      <td>56.2</td>\n",
       "      <td>5.82</td>\n",
       "      <td>553</td>\n",
       "      <td>1</td>\n",
       "    </tr>\n",
       "    <tr>\n",
       "      <th>2</th>\n",
       "      <td>Algeria</td>\n",
       "      <td>27.3</td>\n",
       "      <td>38.4</td>\n",
       "      <td>4.17</td>\n",
       "      <td>31.4</td>\n",
       "      <td>12900</td>\n",
       "      <td>16.10</td>\n",
       "      <td>76.5</td>\n",
       "      <td>2.89</td>\n",
       "      <td>4460</td>\n",
       "      <td>1</td>\n",
       "    </tr>\n",
       "    <tr>\n",
       "      <th>3</th>\n",
       "      <td>Angola</td>\n",
       "      <td>119.0</td>\n",
       "      <td>62.3</td>\n",
       "      <td>2.85</td>\n",
       "      <td>42.9</td>\n",
       "      <td>5900</td>\n",
       "      <td>22.40</td>\n",
       "      <td>60.1</td>\n",
       "      <td>6.16</td>\n",
       "      <td>3530</td>\n",
       "      <td>1</td>\n",
       "    </tr>\n",
       "    <tr>\n",
       "      <th>5</th>\n",
       "      <td>Argentina</td>\n",
       "      <td>14.5</td>\n",
       "      <td>18.9</td>\n",
       "      <td>8.10</td>\n",
       "      <td>16.0</td>\n",
       "      <td>18700</td>\n",
       "      <td>20.90</td>\n",
       "      <td>75.8</td>\n",
       "      <td>2.37</td>\n",
       "      <td>10300</td>\n",
       "      <td>1</td>\n",
       "    </tr>\n",
       "    <tr>\n",
       "      <th>9</th>\n",
       "      <td>Azerbaijan</td>\n",
       "      <td>39.2</td>\n",
       "      <td>54.3</td>\n",
       "      <td>5.88</td>\n",
       "      <td>20.7</td>\n",
       "      <td>16000</td>\n",
       "      <td>13.80</td>\n",
       "      <td>69.1</td>\n",
       "      <td>1.92</td>\n",
       "      <td>5840</td>\n",
       "      <td>1</td>\n",
       "    </tr>\n",
       "  </tbody>\n",
       "</table>\n",
       "</div>"
      ],
      "text/plain": [
       "       country  child_mort  exports  health  imports  income  inflation  \\\n",
       "0  Afghanistan        90.2     10.0    7.58     44.9    1610       9.44   \n",
       "2      Algeria        27.3     38.4    4.17     31.4   12900      16.10   \n",
       "3       Angola       119.0     62.3    2.85     42.9    5900      22.40   \n",
       "5    Argentina        14.5     18.9    8.10     16.0   18700      20.90   \n",
       "9   Azerbaijan        39.2     54.3    5.88     20.7   16000      13.80   \n",
       "\n",
       "   life_expec  total_fer   gdpp  clusters  \n",
       "0        56.2       5.82    553         1  \n",
       "2        76.5       2.89   4460         1  \n",
       "3        60.1       6.16   3530         1  \n",
       "5        75.8       2.37  10300         1  \n",
       "9        69.1       1.92   5840         1  "
      ]
     },
     "execution_count": 26,
     "metadata": {},
     "output_type": "execute_result"
    }
   ],
   "source": [
    "cluster2.head()"
   ]
  },
  {
   "cell_type": "code",
   "execution_count": 27,
   "id": "b411896b",
   "metadata": {
    "execution": {
     "iopub.execute_input": "2022-04-12T13:10:19.614442Z",
     "iopub.status.busy": "2022-04-12T13:10:19.613713Z",
     "iopub.status.idle": "2022-04-12T13:10:19.620361Z",
     "shell.execute_reply": "2022-04-12T13:10:19.620921Z",
     "shell.execute_reply.started": "2022-04-12T13:02:14.270668Z"
    },
    "papermill": {
     "duration": 0.086161,
     "end_time": "2022-04-12T13:10:19.621123",
     "exception": false,
     "start_time": "2022-04-12T13:10:19.534962",
     "status": "completed"
    },
    "tags": []
   },
   "outputs": [
    {
     "data": {
      "text/plain": [
       "['Afghanistan',\n",
       " 'Algeria',\n",
       " 'Angola',\n",
       " 'Argentina',\n",
       " 'Azerbaijan',\n",
       " 'Bangladesh',\n",
       " 'Benin',\n",
       " 'Bolivia',\n",
       " 'Brazil',\n",
       " 'Burkina Faso',\n",
       " 'Burundi',\n",
       " 'Cameroon',\n",
       " 'Central African Republic',\n",
       " 'Chad',\n",
       " 'China',\n",
       " 'Colombia',\n",
       " 'Comoros',\n",
       " 'Congo, Dem. Rep.',\n",
       " 'Congo, Rep.',\n",
       " \"Cote d'Ivoire\",\n",
       " 'Dominican Republic',\n",
       " 'Egypt',\n",
       " 'Equatorial Guinea',\n",
       " 'Eritrea',\n",
       " 'Gabon',\n",
       " 'Gambia',\n",
       " 'Ghana',\n",
       " 'Guatemala',\n",
       " 'Guinea',\n",
       " 'Guinea-Bissau',\n",
       " 'Haiti',\n",
       " 'India',\n",
       " 'Indonesia',\n",
       " 'Iran',\n",
       " 'Iraq',\n",
       " 'Kazakhstan',\n",
       " 'Kenya',\n",
       " 'Lao',\n",
       " 'Madagascar',\n",
       " 'Malawi',\n",
       " 'Mali',\n",
       " 'Mauritania',\n",
       " 'Mongolia',\n",
       " 'Mozambique',\n",
       " 'Myanmar',\n",
       " 'Nepal',\n",
       " 'Niger',\n",
       " 'Nigeria',\n",
       " 'Pakistan',\n",
       " 'Peru',\n",
       " 'Philippines',\n",
       " 'Russia',\n",
       " 'Rwanda',\n",
       " 'Saudi Arabia',\n",
       " 'Senegal',\n",
       " 'Sierra Leone',\n",
       " 'South Africa',\n",
       " 'Sri Lanka',\n",
       " 'Sudan',\n",
       " 'Tajikistan',\n",
       " 'Tanzania',\n",
       " 'Timor-Leste',\n",
       " 'Togo',\n",
       " 'Turkey',\n",
       " 'Uganda',\n",
       " 'Uzbekistan',\n",
       " 'Venezuela',\n",
       " 'Yemen',\n",
       " 'Zambia']"
      ]
     },
     "execution_count": 27,
     "metadata": {},
     "output_type": "execute_result"
    }
   ],
   "source": [
    "list(cluster2[\"country\"])"
   ]
  },
  {
   "cell_type": "code",
   "execution_count": 28,
   "id": "896ab4c1",
   "metadata": {
    "execution": {
     "iopub.execute_input": "2022-04-12T13:10:19.777298Z",
     "iopub.status.busy": "2022-04-12T13:10:19.776555Z",
     "iopub.status.idle": "2022-04-12T13:10:19.812567Z",
     "shell.execute_reply": "2022-04-12T13:10:19.811872Z",
     "shell.execute_reply.started": "2022-04-12T13:02:14.391708Z"
    },
    "papermill": {
     "duration": 0.11513,
     "end_time": "2022-04-12T13:10:19.812720",
     "exception": false,
     "start_time": "2022-04-12T13:10:19.697590",
     "status": "completed"
    },
    "tags": []
   },
   "outputs": [
    {
     "data": {
      "text/html": [
       "<div>\n",
       "<style scoped>\n",
       "    .dataframe tbody tr th:only-of-type {\n",
       "        vertical-align: middle;\n",
       "    }\n",
       "\n",
       "    .dataframe tbody tr th {\n",
       "        vertical-align: top;\n",
       "    }\n",
       "\n",
       "    .dataframe thead th {\n",
       "        text-align: right;\n",
       "    }\n",
       "</style>\n",
       "<table border=\"1\" class=\"dataframe\">\n",
       "  <thead>\n",
       "    <tr style=\"text-align: right;\">\n",
       "      <th></th>\n",
       "      <th>child_mort</th>\n",
       "      <th>exports</th>\n",
       "      <th>health</th>\n",
       "      <th>imports</th>\n",
       "      <th>income</th>\n",
       "      <th>inflation</th>\n",
       "      <th>life_expec</th>\n",
       "      <th>total_fer</th>\n",
       "      <th>gdpp</th>\n",
       "      <th>clusters</th>\n",
       "    </tr>\n",
       "  </thead>\n",
       "  <tbody>\n",
       "    <tr>\n",
       "      <th>count</th>\n",
       "      <td>69.000000</td>\n",
       "      <td>69.000000</td>\n",
       "      <td>69.000000</td>\n",
       "      <td>69.000000</td>\n",
       "      <td>69.000000</td>\n",
       "      <td>69.000000</td>\n",
       "      <td>69.000000</td>\n",
       "      <td>69.000000</td>\n",
       "      <td>69.000000</td>\n",
       "      <td>69.0</td>\n",
       "    </tr>\n",
       "    <tr>\n",
       "      <th>mean</th>\n",
       "      <td>69.904348</td>\n",
       "      <td>27.924623</td>\n",
       "      <td>5.660000</td>\n",
       "      <td>33.909651</td>\n",
       "      <td>6869.608696</td>\n",
       "      <td>13.260507</td>\n",
       "      <td>64.362319</td>\n",
       "      <td>4.116232</td>\n",
       "      <td>3226.391304</td>\n",
       "      <td>1.0</td>\n",
       "    </tr>\n",
       "    <tr>\n",
       "      <th>std</th>\n",
       "      <td>42.517479</td>\n",
       "      <td>16.499992</td>\n",
       "      <td>2.164893</td>\n",
       "      <td>13.101442</td>\n",
       "      <td>8103.479110</td>\n",
       "      <td>13.986192</td>\n",
       "      <td>8.266376</td>\n",
       "      <td>1.545297</td>\n",
       "      <td>4111.227623</td>\n",
       "      <td>0.0</td>\n",
       "    </tr>\n",
       "    <tr>\n",
       "      <th>min</th>\n",
       "      <td>10.000000</td>\n",
       "      <td>0.109000</td>\n",
       "      <td>1.970000</td>\n",
       "      <td>0.065900</td>\n",
       "      <td>609.000000</td>\n",
       "      <td>0.885000</td>\n",
       "      <td>32.100000</td>\n",
       "      <td>1.570000</td>\n",
       "      <td>231.000000</td>\n",
       "      <td>1.0</td>\n",
       "    </tr>\n",
       "    <tr>\n",
       "      <th>25%</th>\n",
       "      <td>34.400000</td>\n",
       "      <td>17.100000</td>\n",
       "      <td>4.410000</td>\n",
       "      <td>25.500000</td>\n",
       "      <td>1610.000000</td>\n",
       "      <td>5.450000</td>\n",
       "      <td>58.700000</td>\n",
       "      <td>2.600000</td>\n",
       "      <td>648.000000</td>\n",
       "      <td>1.0</td>\n",
       "    </tr>\n",
       "    <tr>\n",
       "      <th>50%</th>\n",
       "      <td>63.700000</td>\n",
       "      <td>24.300000</td>\n",
       "      <td>5.180000</td>\n",
       "      <td>33.300000</td>\n",
       "      <td>3370.000000</td>\n",
       "      <td>10.100000</td>\n",
       "      <td>65.300000</td>\n",
       "      <td>4.510000</td>\n",
       "      <td>1310.000000</td>\n",
       "      <td>1.0</td>\n",
       "    </tr>\n",
       "    <tr>\n",
       "      <th>75%</th>\n",
       "      <td>97.400000</td>\n",
       "      <td>35.400000</td>\n",
       "      <td>6.740000</td>\n",
       "      <td>43.000000</td>\n",
       "      <td>9860.000000</td>\n",
       "      <td>16.600000</td>\n",
       "      <td>69.900000</td>\n",
       "      <td>5.310000</td>\n",
       "      <td>4460.000000</td>\n",
       "      <td>1.0</td>\n",
       "    </tr>\n",
       "    <tr>\n",
       "      <th>max</th>\n",
       "      <td>208.000000</td>\n",
       "      <td>85.800000</td>\n",
       "      <td>13.100000</td>\n",
       "      <td>64.700000</td>\n",
       "      <td>45400.000000</td>\n",
       "      <td>104.000000</td>\n",
       "      <td>78.200000</td>\n",
       "      <td>7.490000</td>\n",
       "      <td>19300.000000</td>\n",
       "      <td>1.0</td>\n",
       "    </tr>\n",
       "  </tbody>\n",
       "</table>\n",
       "</div>"
      ],
      "text/plain": [
       "       child_mort    exports     health    imports        income   inflation  \\\n",
       "count   69.000000  69.000000  69.000000  69.000000     69.000000   69.000000   \n",
       "mean    69.904348  27.924623   5.660000  33.909651   6869.608696   13.260507   \n",
       "std     42.517479  16.499992   2.164893  13.101442   8103.479110   13.986192   \n",
       "min     10.000000   0.109000   1.970000   0.065900    609.000000    0.885000   \n",
       "25%     34.400000  17.100000   4.410000  25.500000   1610.000000    5.450000   \n",
       "50%     63.700000  24.300000   5.180000  33.300000   3370.000000   10.100000   \n",
       "75%     97.400000  35.400000   6.740000  43.000000   9860.000000   16.600000   \n",
       "max    208.000000  85.800000  13.100000  64.700000  45400.000000  104.000000   \n",
       "\n",
       "       life_expec  total_fer          gdpp  clusters  \n",
       "count   69.000000  69.000000     69.000000      69.0  \n",
       "mean    64.362319   4.116232   3226.391304       1.0  \n",
       "std      8.266376   1.545297   4111.227623       0.0  \n",
       "min     32.100000   1.570000    231.000000       1.0  \n",
       "25%     58.700000   2.600000    648.000000       1.0  \n",
       "50%     65.300000   4.510000   1310.000000       1.0  \n",
       "75%     69.900000   5.310000   4460.000000       1.0  \n",
       "max     78.200000   7.490000  19300.000000       1.0  "
      ]
     },
     "execution_count": 28,
     "metadata": {},
     "output_type": "execute_result"
    }
   ],
   "source": [
    "cluster2.describe()"
   ]
  },
  {
   "cell_type": "markdown",
   "id": "3952d24d",
   "metadata": {
    "papermill": {
     "duration": 0.076763,
     "end_time": "2022-04-12T13:10:19.966461",
     "exception": false,
     "start_time": "2022-04-12T13:10:19.889698",
     "status": "completed"
    },
    "tags": []
   },
   "source": [
    "### Cluster 3"
   ]
  },
  {
   "cell_type": "code",
   "execution_count": 29,
   "id": "5dfee6b7",
   "metadata": {
    "execution": {
     "iopub.execute_input": "2022-04-12T13:10:20.127334Z",
     "iopub.status.busy": "2022-04-12T13:10:20.126618Z",
     "iopub.status.idle": "2022-04-12T13:10:20.129333Z",
     "shell.execute_reply": "2022-04-12T13:10:20.129903Z",
     "shell.execute_reply.started": "2022-04-12T13:02:14.876056Z"
    },
    "papermill": {
     "duration": 0.086388,
     "end_time": "2022-04-12T13:10:20.130114",
     "exception": false,
     "start_time": "2022-04-12T13:10:20.043726",
     "status": "completed"
    },
    "tags": []
   },
   "outputs": [
    {
     "data": {
      "text/plain": [
       "(3, 11)"
      ]
     },
     "execution_count": 29,
     "metadata": {},
     "output_type": "execute_result"
    }
   ],
   "source": [
    "cluster3 = data[data.clusters == 2]\n",
    "cluster3.shape"
   ]
  },
  {
   "cell_type": "code",
   "execution_count": 30,
   "id": "12ee5ef7",
   "metadata": {
    "execution": {
     "iopub.execute_input": "2022-04-12T13:10:20.300933Z",
     "iopub.status.busy": "2022-04-12T13:10:20.287799Z",
     "iopub.status.idle": "2022-04-12T13:10:20.304548Z",
     "shell.execute_reply": "2022-04-12T13:10:20.303879Z",
     "shell.execute_reply.started": "2022-04-12T13:02:15.0674Z"
    },
    "papermill": {
     "duration": 0.097182,
     "end_time": "2022-04-12T13:10:20.304704",
     "exception": false,
     "start_time": "2022-04-12T13:10:20.207522",
     "status": "completed"
    },
    "tags": []
   },
   "outputs": [
    {
     "data": {
      "text/html": [
       "<div>\n",
       "<style scoped>\n",
       "    .dataframe tbody tr th:only-of-type {\n",
       "        vertical-align: middle;\n",
       "    }\n",
       "\n",
       "    .dataframe tbody tr th {\n",
       "        vertical-align: top;\n",
       "    }\n",
       "\n",
       "    .dataframe thead th {\n",
       "        text-align: right;\n",
       "    }\n",
       "</style>\n",
       "<table border=\"1\" class=\"dataframe\">\n",
       "  <thead>\n",
       "    <tr style=\"text-align: right;\">\n",
       "      <th></th>\n",
       "      <th>country</th>\n",
       "      <th>child_mort</th>\n",
       "      <th>exports</th>\n",
       "      <th>health</th>\n",
       "      <th>imports</th>\n",
       "      <th>income</th>\n",
       "      <th>inflation</th>\n",
       "      <th>life_expec</th>\n",
       "      <th>total_fer</th>\n",
       "      <th>gdpp</th>\n",
       "      <th>clusters</th>\n",
       "    </tr>\n",
       "  </thead>\n",
       "  <tbody>\n",
       "    <tr>\n",
       "      <th>91</th>\n",
       "      <td>Luxembourg</td>\n",
       "      <td>2.8</td>\n",
       "      <td>175.0</td>\n",
       "      <td>7.77</td>\n",
       "      <td>142.0</td>\n",
       "      <td>91700</td>\n",
       "      <td>3.620</td>\n",
       "      <td>81.3</td>\n",
       "      <td>1.63</td>\n",
       "      <td>105000</td>\n",
       "      <td>2</td>\n",
       "    </tr>\n",
       "    <tr>\n",
       "      <th>98</th>\n",
       "      <td>Malta</td>\n",
       "      <td>6.8</td>\n",
       "      <td>153.0</td>\n",
       "      <td>8.65</td>\n",
       "      <td>154.0</td>\n",
       "      <td>28300</td>\n",
       "      <td>3.830</td>\n",
       "      <td>80.3</td>\n",
       "      <td>1.36</td>\n",
       "      <td>21100</td>\n",
       "      <td>2</td>\n",
       "    </tr>\n",
       "    <tr>\n",
       "      <th>133</th>\n",
       "      <td>Singapore</td>\n",
       "      <td>2.8</td>\n",
       "      <td>200.0</td>\n",
       "      <td>3.96</td>\n",
       "      <td>174.0</td>\n",
       "      <td>72100</td>\n",
       "      <td>-0.046</td>\n",
       "      <td>82.7</td>\n",
       "      <td>1.15</td>\n",
       "      <td>46600</td>\n",
       "      <td>2</td>\n",
       "    </tr>\n",
       "  </tbody>\n",
       "</table>\n",
       "</div>"
      ],
      "text/plain": [
       "        country  child_mort  exports  health  imports  income  inflation  \\\n",
       "91   Luxembourg         2.8    175.0    7.77    142.0   91700      3.620   \n",
       "98        Malta         6.8    153.0    8.65    154.0   28300      3.830   \n",
       "133   Singapore         2.8    200.0    3.96    174.0   72100     -0.046   \n",
       "\n",
       "     life_expec  total_fer    gdpp  clusters  \n",
       "91         81.3       1.63  105000         2  \n",
       "98         80.3       1.36   21100         2  \n",
       "133        82.7       1.15   46600         2  "
      ]
     },
     "execution_count": 30,
     "metadata": {},
     "output_type": "execute_result"
    }
   ],
   "source": [
    "cluster3.head()"
   ]
  },
  {
   "cell_type": "code",
   "execution_count": 31,
   "id": "21b0997b",
   "metadata": {
    "execution": {
     "iopub.execute_input": "2022-04-12T13:10:20.469112Z",
     "iopub.status.busy": "2022-04-12T13:10:20.468260Z",
     "iopub.status.idle": "2022-04-12T13:10:20.471624Z",
     "shell.execute_reply": "2022-04-12T13:10:20.472150Z",
     "shell.execute_reply.started": "2022-04-12T13:02:15.180275Z"
    },
    "papermill": {
     "duration": 0.089428,
     "end_time": "2022-04-12T13:10:20.472349",
     "exception": false,
     "start_time": "2022-04-12T13:10:20.382921",
     "status": "completed"
    },
    "tags": []
   },
   "outputs": [
    {
     "data": {
      "text/plain": [
       "['Luxembourg', 'Malta', 'Singapore']"
      ]
     },
     "execution_count": 31,
     "metadata": {},
     "output_type": "execute_result"
    }
   ],
   "source": [
    "list(cluster3[\"country\"])"
   ]
  },
  {
   "cell_type": "code",
   "execution_count": 32,
   "id": "a7b4d114",
   "metadata": {
    "execution": {
     "iopub.execute_input": "2022-04-12T13:10:20.635580Z",
     "iopub.status.busy": "2022-04-12T13:10:20.634448Z",
     "iopub.status.idle": "2022-04-12T13:10:20.671592Z",
     "shell.execute_reply": "2022-04-12T13:10:20.672204Z",
     "shell.execute_reply.started": "2022-04-12T13:02:15.300359Z"
    },
    "papermill": {
     "duration": 0.121589,
     "end_time": "2022-04-12T13:10:20.672410",
     "exception": false,
     "start_time": "2022-04-12T13:10:20.550821",
     "status": "completed"
    },
    "tags": []
   },
   "outputs": [
    {
     "data": {
      "text/html": [
       "<div>\n",
       "<style scoped>\n",
       "    .dataframe tbody tr th:only-of-type {\n",
       "        vertical-align: middle;\n",
       "    }\n",
       "\n",
       "    .dataframe tbody tr th {\n",
       "        vertical-align: top;\n",
       "    }\n",
       "\n",
       "    .dataframe thead th {\n",
       "        text-align: right;\n",
       "    }\n",
       "</style>\n",
       "<table border=\"1\" class=\"dataframe\">\n",
       "  <thead>\n",
       "    <tr style=\"text-align: right;\">\n",
       "      <th></th>\n",
       "      <th>child_mort</th>\n",
       "      <th>exports</th>\n",
       "      <th>health</th>\n",
       "      <th>imports</th>\n",
       "      <th>income</th>\n",
       "      <th>inflation</th>\n",
       "      <th>life_expec</th>\n",
       "      <th>total_fer</th>\n",
       "      <th>gdpp</th>\n",
       "      <th>clusters</th>\n",
       "    </tr>\n",
       "  </thead>\n",
       "  <tbody>\n",
       "    <tr>\n",
       "      <th>count</th>\n",
       "      <td>3.000000</td>\n",
       "      <td>3.000000</td>\n",
       "      <td>3.000000</td>\n",
       "      <td>3.000000</td>\n",
       "      <td>3.000000</td>\n",
       "      <td>3.000000</td>\n",
       "      <td>3.000000</td>\n",
       "      <td>3.000000</td>\n",
       "      <td>3.000000</td>\n",
       "      <td>3.0</td>\n",
       "    </tr>\n",
       "    <tr>\n",
       "      <th>mean</th>\n",
       "      <td>4.133333</td>\n",
       "      <td>176.000000</td>\n",
       "      <td>6.793333</td>\n",
       "      <td>156.666667</td>\n",
       "      <td>64033.333333</td>\n",
       "      <td>2.468000</td>\n",
       "      <td>81.433333</td>\n",
       "      <td>1.380000</td>\n",
       "      <td>57566.666667</td>\n",
       "      <td>2.0</td>\n",
       "    </tr>\n",
       "    <tr>\n",
       "      <th>std</th>\n",
       "      <td>2.309401</td>\n",
       "      <td>23.515952</td>\n",
       "      <td>2.492877</td>\n",
       "      <td>16.165808</td>\n",
       "      <td>32460.642836</td>\n",
       "      <td>2.179718</td>\n",
       "      <td>1.205543</td>\n",
       "      <td>0.240624</td>\n",
       "      <td>43011.665084</td>\n",
       "      <td>0.0</td>\n",
       "    </tr>\n",
       "    <tr>\n",
       "      <th>min</th>\n",
       "      <td>2.800000</td>\n",
       "      <td>153.000000</td>\n",
       "      <td>3.960000</td>\n",
       "      <td>142.000000</td>\n",
       "      <td>28300.000000</td>\n",
       "      <td>-0.046000</td>\n",
       "      <td>80.300000</td>\n",
       "      <td>1.150000</td>\n",
       "      <td>21100.000000</td>\n",
       "      <td>2.0</td>\n",
       "    </tr>\n",
       "    <tr>\n",
       "      <th>25%</th>\n",
       "      <td>2.800000</td>\n",
       "      <td>164.000000</td>\n",
       "      <td>5.865000</td>\n",
       "      <td>148.000000</td>\n",
       "      <td>50200.000000</td>\n",
       "      <td>1.787000</td>\n",
       "      <td>80.800000</td>\n",
       "      <td>1.255000</td>\n",
       "      <td>33850.000000</td>\n",
       "      <td>2.0</td>\n",
       "    </tr>\n",
       "    <tr>\n",
       "      <th>50%</th>\n",
       "      <td>2.800000</td>\n",
       "      <td>175.000000</td>\n",
       "      <td>7.770000</td>\n",
       "      <td>154.000000</td>\n",
       "      <td>72100.000000</td>\n",
       "      <td>3.620000</td>\n",
       "      <td>81.300000</td>\n",
       "      <td>1.360000</td>\n",
       "      <td>46600.000000</td>\n",
       "      <td>2.0</td>\n",
       "    </tr>\n",
       "    <tr>\n",
       "      <th>75%</th>\n",
       "      <td>4.800000</td>\n",
       "      <td>187.500000</td>\n",
       "      <td>8.210000</td>\n",
       "      <td>164.000000</td>\n",
       "      <td>81900.000000</td>\n",
       "      <td>3.725000</td>\n",
       "      <td>82.000000</td>\n",
       "      <td>1.495000</td>\n",
       "      <td>75800.000000</td>\n",
       "      <td>2.0</td>\n",
       "    </tr>\n",
       "    <tr>\n",
       "      <th>max</th>\n",
       "      <td>6.800000</td>\n",
       "      <td>200.000000</td>\n",
       "      <td>8.650000</td>\n",
       "      <td>174.000000</td>\n",
       "      <td>91700.000000</td>\n",
       "      <td>3.830000</td>\n",
       "      <td>82.700000</td>\n",
       "      <td>1.630000</td>\n",
       "      <td>105000.000000</td>\n",
       "      <td>2.0</td>\n",
       "    </tr>\n",
       "  </tbody>\n",
       "</table>\n",
       "</div>"
      ],
      "text/plain": [
       "       child_mort     exports    health     imports        income  inflation  \\\n",
       "count    3.000000    3.000000  3.000000    3.000000      3.000000   3.000000   \n",
       "mean     4.133333  176.000000  6.793333  156.666667  64033.333333   2.468000   \n",
       "std      2.309401   23.515952  2.492877   16.165808  32460.642836   2.179718   \n",
       "min      2.800000  153.000000  3.960000  142.000000  28300.000000  -0.046000   \n",
       "25%      2.800000  164.000000  5.865000  148.000000  50200.000000   1.787000   \n",
       "50%      2.800000  175.000000  7.770000  154.000000  72100.000000   3.620000   \n",
       "75%      4.800000  187.500000  8.210000  164.000000  81900.000000   3.725000   \n",
       "max      6.800000  200.000000  8.650000  174.000000  91700.000000   3.830000   \n",
       "\n",
       "       life_expec  total_fer           gdpp  clusters  \n",
       "count    3.000000   3.000000       3.000000       3.0  \n",
       "mean    81.433333   1.380000   57566.666667       2.0  \n",
       "std      1.205543   0.240624   43011.665084       0.0  \n",
       "min     80.300000   1.150000   21100.000000       2.0  \n",
       "25%     80.800000   1.255000   33850.000000       2.0  \n",
       "50%     81.300000   1.360000   46600.000000       2.0  \n",
       "75%     82.000000   1.495000   75800.000000       2.0  \n",
       "max     82.700000   1.630000  105000.000000       2.0  "
      ]
     },
     "execution_count": 32,
     "metadata": {},
     "output_type": "execute_result"
    }
   ],
   "source": [
    "cluster3.describe()"
   ]
  },
  {
   "cell_type": "markdown",
   "id": "1fd19e7a",
   "metadata": {
    "papermill": {
     "duration": 0.079504,
     "end_time": "2022-04-12T13:10:20.830402",
     "exception": false,
     "start_time": "2022-04-12T13:10:20.750898",
     "status": "completed"
    },
    "tags": []
   },
   "source": [
    "### Cluster 4"
   ]
  },
  {
   "cell_type": "code",
   "execution_count": 33,
   "id": "719fd657",
   "metadata": {
    "execution": {
     "iopub.execute_input": "2022-04-12T13:10:20.994475Z",
     "iopub.status.busy": "2022-04-12T13:10:20.993370Z",
     "iopub.status.idle": "2022-04-12T13:10:21.000259Z",
     "shell.execute_reply": "2022-04-12T13:10:21.001033Z",
     "shell.execute_reply.started": "2022-04-12T13:02:15.639412Z"
    },
    "papermill": {
     "duration": 0.090122,
     "end_time": "2022-04-12T13:10:21.001243",
     "exception": false,
     "start_time": "2022-04-12T13:10:20.911121",
     "status": "completed"
    },
    "tags": []
   },
   "outputs": [
    {
     "data": {
      "text/plain": [
       "(70, 11)"
      ]
     },
     "execution_count": 33,
     "metadata": {},
     "output_type": "execute_result"
    }
   ],
   "source": [
    "cluster4 = data[data.clusters == 3]\n",
    "cluster4.shape"
   ]
  },
  {
   "cell_type": "code",
   "execution_count": 34,
   "id": "106bff67",
   "metadata": {
    "execution": {
     "iopub.execute_input": "2022-04-12T13:10:21.170093Z",
     "iopub.status.busy": "2022-04-12T13:10:21.168995Z",
     "iopub.status.idle": "2022-04-12T13:10:21.184375Z",
     "shell.execute_reply": "2022-04-12T13:10:21.185009Z",
     "shell.execute_reply.started": "2022-04-12T13:02:15.864092Z"
    },
    "papermill": {
     "duration": 0.102261,
     "end_time": "2022-04-12T13:10:21.185196",
     "exception": false,
     "start_time": "2022-04-12T13:10:21.082935",
     "status": "completed"
    },
    "tags": []
   },
   "outputs": [
    {
     "data": {
      "text/html": [
       "<div>\n",
       "<style scoped>\n",
       "    .dataframe tbody tr th:only-of-type {\n",
       "        vertical-align: middle;\n",
       "    }\n",
       "\n",
       "    .dataframe tbody tr th {\n",
       "        vertical-align: top;\n",
       "    }\n",
       "\n",
       "    .dataframe thead th {\n",
       "        text-align: right;\n",
       "    }\n",
       "</style>\n",
       "<table border=\"1\" class=\"dataframe\">\n",
       "  <thead>\n",
       "    <tr style=\"text-align: right;\">\n",
       "      <th></th>\n",
       "      <th>country</th>\n",
       "      <th>child_mort</th>\n",
       "      <th>exports</th>\n",
       "      <th>health</th>\n",
       "      <th>imports</th>\n",
       "      <th>income</th>\n",
       "      <th>inflation</th>\n",
       "      <th>life_expec</th>\n",
       "      <th>total_fer</th>\n",
       "      <th>gdpp</th>\n",
       "      <th>clusters</th>\n",
       "    </tr>\n",
       "  </thead>\n",
       "  <tbody>\n",
       "    <tr>\n",
       "      <th>1</th>\n",
       "      <td>Albania</td>\n",
       "      <td>16.6</td>\n",
       "      <td>28.0</td>\n",
       "      <td>6.55</td>\n",
       "      <td>48.6</td>\n",
       "      <td>9930</td>\n",
       "      <td>4.490</td>\n",
       "      <td>76.3</td>\n",
       "      <td>1.65</td>\n",
       "      <td>4090</td>\n",
       "      <td>3</td>\n",
       "    </tr>\n",
       "    <tr>\n",
       "      <th>4</th>\n",
       "      <td>Antigua and Barbuda</td>\n",
       "      <td>10.3</td>\n",
       "      <td>45.5</td>\n",
       "      <td>6.03</td>\n",
       "      <td>58.9</td>\n",
       "      <td>19100</td>\n",
       "      <td>1.440</td>\n",
       "      <td>76.8</td>\n",
       "      <td>2.13</td>\n",
       "      <td>12200</td>\n",
       "      <td>3</td>\n",
       "    </tr>\n",
       "    <tr>\n",
       "      <th>6</th>\n",
       "      <td>Armenia</td>\n",
       "      <td>18.1</td>\n",
       "      <td>20.8</td>\n",
       "      <td>4.40</td>\n",
       "      <td>45.3</td>\n",
       "      <td>6700</td>\n",
       "      <td>7.770</td>\n",
       "      <td>73.3</td>\n",
       "      <td>1.69</td>\n",
       "      <td>3220</td>\n",
       "      <td>3</td>\n",
       "    </tr>\n",
       "    <tr>\n",
       "      <th>11</th>\n",
       "      <td>Bahrain</td>\n",
       "      <td>8.6</td>\n",
       "      <td>69.5</td>\n",
       "      <td>4.97</td>\n",
       "      <td>50.9</td>\n",
       "      <td>41100</td>\n",
       "      <td>7.440</td>\n",
       "      <td>76.0</td>\n",
       "      <td>2.16</td>\n",
       "      <td>20700</td>\n",
       "      <td>3</td>\n",
       "    </tr>\n",
       "    <tr>\n",
       "      <th>13</th>\n",
       "      <td>Barbados</td>\n",
       "      <td>14.2</td>\n",
       "      <td>39.5</td>\n",
       "      <td>7.97</td>\n",
       "      <td>48.7</td>\n",
       "      <td>15300</td>\n",
       "      <td>0.321</td>\n",
       "      <td>76.7</td>\n",
       "      <td>1.78</td>\n",
       "      <td>16000</td>\n",
       "      <td>3</td>\n",
       "    </tr>\n",
       "  </tbody>\n",
       "</table>\n",
       "</div>"
      ],
      "text/plain": [
       "                country  child_mort  exports  health  imports  income  \\\n",
       "1               Albania        16.6     28.0    6.55     48.6    9930   \n",
       "4   Antigua and Barbuda        10.3     45.5    6.03     58.9   19100   \n",
       "6               Armenia        18.1     20.8    4.40     45.3    6700   \n",
       "11              Bahrain         8.6     69.5    4.97     50.9   41100   \n",
       "13             Barbados        14.2     39.5    7.97     48.7   15300   \n",
       "\n",
       "    inflation  life_expec  total_fer   gdpp  clusters  \n",
       "1       4.490        76.3       1.65   4090         3  \n",
       "4       1.440        76.8       2.13  12200         3  \n",
       "6       7.770        73.3       1.69   3220         3  \n",
       "11      7.440        76.0       2.16  20700         3  \n",
       "13      0.321        76.7       1.78  16000         3  "
      ]
     },
     "execution_count": 34,
     "metadata": {},
     "output_type": "execute_result"
    }
   ],
   "source": [
    "cluster4.head()"
   ]
  },
  {
   "cell_type": "code",
   "execution_count": 35,
   "id": "52adbbba",
   "metadata": {
    "execution": {
     "iopub.execute_input": "2022-04-12T13:10:21.348680Z",
     "iopub.status.busy": "2022-04-12T13:10:21.347641Z",
     "iopub.status.idle": "2022-04-12T13:10:21.355835Z",
     "shell.execute_reply": "2022-04-12T13:10:21.355213Z",
     "shell.execute_reply.started": "2022-04-12T13:02:16.033698Z"
    },
    "papermill": {
     "duration": 0.090872,
     "end_time": "2022-04-12T13:10:21.356014",
     "exception": false,
     "start_time": "2022-04-12T13:10:21.265142",
     "status": "completed"
    },
    "tags": []
   },
   "outputs": [
    {
     "data": {
      "text/plain": [
       "['Albania',\n",
       " 'Antigua and Barbuda',\n",
       " 'Armenia',\n",
       " 'Bahrain',\n",
       " 'Barbados',\n",
       " 'Belarus',\n",
       " 'Belize',\n",
       " 'Bhutan',\n",
       " 'Bosnia and Herzegovina',\n",
       " 'Botswana',\n",
       " 'Brunei',\n",
       " 'Bulgaria',\n",
       " 'Cambodia',\n",
       " 'Cape Verde',\n",
       " 'Chile',\n",
       " 'Costa Rica',\n",
       " 'Croatia',\n",
       " 'Cyprus',\n",
       " 'Czech Republic',\n",
       " 'Ecuador',\n",
       " 'El Salvador',\n",
       " 'Estonia',\n",
       " 'Fiji',\n",
       " 'Georgia',\n",
       " 'Grenada',\n",
       " 'Guyana',\n",
       " 'Hungary',\n",
       " 'Jamaica',\n",
       " 'Jordan',\n",
       " 'Kiribati',\n",
       " 'Kuwait',\n",
       " 'Kyrgyz Republic',\n",
       " 'Latvia',\n",
       " 'Lebanon',\n",
       " 'Lesotho',\n",
       " 'Liberia',\n",
       " 'Libya',\n",
       " 'Lithuania',\n",
       " 'Macedonia, FYR',\n",
       " 'Malaysia',\n",
       " 'Maldives',\n",
       " 'Mauritius',\n",
       " 'Micronesia, Fed. Sts.',\n",
       " 'Moldova',\n",
       " 'Montenegro',\n",
       " 'Morocco',\n",
       " 'Namibia',\n",
       " 'Oman',\n",
       " 'Panama',\n",
       " 'Paraguay',\n",
       " 'Poland',\n",
       " 'Romania',\n",
       " 'Samoa',\n",
       " 'Serbia',\n",
       " 'Seychelles',\n",
       " 'Slovak Republic',\n",
       " 'Slovenia',\n",
       " 'Solomon Islands',\n",
       " 'South Korea',\n",
       " 'St. Vincent and the Grenadines',\n",
       " 'Suriname',\n",
       " 'Thailand',\n",
       " 'Tonga',\n",
       " 'Tunisia',\n",
       " 'Turkmenistan',\n",
       " 'Ukraine',\n",
       " 'United Arab Emirates',\n",
       " 'Uruguay',\n",
       " 'Vanuatu',\n",
       " 'Vietnam']"
      ]
     },
     "execution_count": 35,
     "metadata": {},
     "output_type": "execute_result"
    }
   ],
   "source": [
    "list(cluster4[\"country\"])"
   ]
  },
  {
   "cell_type": "code",
   "execution_count": 36,
   "id": "bcea4409",
   "metadata": {
    "execution": {
     "iopub.execute_input": "2022-04-12T13:10:21.532715Z",
     "iopub.status.busy": "2022-04-12T13:10:21.520318Z",
     "iopub.status.idle": "2022-04-12T13:10:21.559643Z",
     "shell.execute_reply": "2022-04-12T13:10:21.560207Z",
     "shell.execute_reply.started": "2022-04-12T13:02:17.104444Z"
    },
    "papermill": {
     "duration": 0.124702,
     "end_time": "2022-04-12T13:10:21.560416",
     "exception": false,
     "start_time": "2022-04-12T13:10:21.435714",
     "status": "completed"
    },
    "tags": []
   },
   "outputs": [
    {
     "data": {
      "text/html": [
       "<div>\n",
       "<style scoped>\n",
       "    .dataframe tbody tr th:only-of-type {\n",
       "        vertical-align: middle;\n",
       "    }\n",
       "\n",
       "    .dataframe tbody tr th {\n",
       "        vertical-align: top;\n",
       "    }\n",
       "\n",
       "    .dataframe thead th {\n",
       "        text-align: right;\n",
       "    }\n",
       "</style>\n",
       "<table border=\"1\" class=\"dataframe\">\n",
       "  <thead>\n",
       "    <tr style=\"text-align: right;\">\n",
       "      <th></th>\n",
       "      <th>child_mort</th>\n",
       "      <th>exports</th>\n",
       "      <th>health</th>\n",
       "      <th>imports</th>\n",
       "      <th>income</th>\n",
       "      <th>inflation</th>\n",
       "      <th>life_expec</th>\n",
       "      <th>total_fer</th>\n",
       "      <th>gdpp</th>\n",
       "      <th>clusters</th>\n",
       "    </tr>\n",
       "  </thead>\n",
       "  <tbody>\n",
       "    <tr>\n",
       "      <th>count</th>\n",
       "      <td>70.000000</td>\n",
       "      <td>70.000000</td>\n",
       "      <td>70.000000</td>\n",
       "      <td>70.000000</td>\n",
       "      <td>70.000000</td>\n",
       "      <td>70.000000</td>\n",
       "      <td>70.000000</td>\n",
       "      <td>70.000000</td>\n",
       "      <td>70.000000</td>\n",
       "      <td>70.0</td>\n",
       "    </tr>\n",
       "    <tr>\n",
       "      <th>mean</th>\n",
       "      <td>20.481429</td>\n",
       "      <td>48.232857</td>\n",
       "      <td>6.797000</td>\n",
       "      <td>58.195714</td>\n",
       "      <td>16043.714286</td>\n",
       "      <td>4.855671</td>\n",
       "      <td>72.624286</td>\n",
       "      <td>2.265286</td>\n",
       "      <td>8954.185714</td>\n",
       "      <td>3.0</td>\n",
       "    </tr>\n",
       "    <tr>\n",
       "      <th>std</th>\n",
       "      <td>18.775673</td>\n",
       "      <td>18.630999</td>\n",
       "      <td>2.417564</td>\n",
       "      <td>16.711104</td>\n",
       "      <td>15082.282645</td>\n",
       "      <td>4.457253</td>\n",
       "      <td>6.148794</td>\n",
       "      <td>0.841687</td>\n",
       "      <td>8489.312803</td>\n",
       "      <td>0.0</td>\n",
       "    </tr>\n",
       "    <tr>\n",
       "      <th>min</th>\n",
       "      <td>3.200000</td>\n",
       "      <td>12.400000</td>\n",
       "      <td>2.500000</td>\n",
       "      <td>25.400000</td>\n",
       "      <td>700.000000</td>\n",
       "      <td>-4.210000</td>\n",
       "      <td>46.500000</td>\n",
       "      <td>1.230000</td>\n",
       "      <td>327.000000</td>\n",
       "      <td>3.0</td>\n",
       "    </tr>\n",
       "    <tr>\n",
       "      <th>25%</th>\n",
       "      <td>8.625000</td>\n",
       "      <td>32.975000</td>\n",
       "      <td>5.200000</td>\n",
       "      <td>48.075000</td>\n",
       "      <td>6870.000000</td>\n",
       "      <td>1.615000</td>\n",
       "      <td>70.625000</td>\n",
       "      <td>1.570000</td>\n",
       "      <td>3250.000000</td>\n",
       "      <td>3.0</td>\n",
       "    </tr>\n",
       "    <tr>\n",
       "      <th>50%</th>\n",
       "      <td>14.950000</td>\n",
       "      <td>48.050000</td>\n",
       "      <td>6.615000</td>\n",
       "      <td>57.500000</td>\n",
       "      <td>12050.000000</td>\n",
       "      <td>3.740000</td>\n",
       "      <td>74.050000</td>\n",
       "      <td>2.135000</td>\n",
       "      <td>6130.000000</td>\n",
       "      <td>3.0</td>\n",
       "    </tr>\n",
       "    <tr>\n",
       "      <th>75%</th>\n",
       "      <td>24.100000</td>\n",
       "      <td>65.050000</td>\n",
       "      <td>8.022500</td>\n",
       "      <td>66.750000</td>\n",
       "      <td>19925.000000</td>\n",
       "      <td>7.397500</td>\n",
       "      <td>76.475000</td>\n",
       "      <td>2.670000</td>\n",
       "      <td>12075.000000</td>\n",
       "      <td>3.0</td>\n",
       "    </tr>\n",
       "    <tr>\n",
       "      <th>max</th>\n",
       "      <td>99.700000</td>\n",
       "      <td>93.800000</td>\n",
       "      <td>14.200000</td>\n",
       "      <td>108.000000</td>\n",
       "      <td>80600.000000</td>\n",
       "      <td>16.700000</td>\n",
       "      <td>80.400000</td>\n",
       "      <td>5.020000</td>\n",
       "      <td>38500.000000</td>\n",
       "      <td>3.0</td>\n",
       "    </tr>\n",
       "  </tbody>\n",
       "</table>\n",
       "</div>"
      ],
      "text/plain": [
       "       child_mort    exports     health     imports        income  inflation  \\\n",
       "count   70.000000  70.000000  70.000000   70.000000     70.000000  70.000000   \n",
       "mean    20.481429  48.232857   6.797000   58.195714  16043.714286   4.855671   \n",
       "std     18.775673  18.630999   2.417564   16.711104  15082.282645   4.457253   \n",
       "min      3.200000  12.400000   2.500000   25.400000    700.000000  -4.210000   \n",
       "25%      8.625000  32.975000   5.200000   48.075000   6870.000000   1.615000   \n",
       "50%     14.950000  48.050000   6.615000   57.500000  12050.000000   3.740000   \n",
       "75%     24.100000  65.050000   8.022500   66.750000  19925.000000   7.397500   \n",
       "max     99.700000  93.800000  14.200000  108.000000  80600.000000  16.700000   \n",
       "\n",
       "       life_expec  total_fer          gdpp  clusters  \n",
       "count   70.000000  70.000000     70.000000      70.0  \n",
       "mean    72.624286   2.265286   8954.185714       3.0  \n",
       "std      6.148794   0.841687   8489.312803       0.0  \n",
       "min     46.500000   1.230000    327.000000       3.0  \n",
       "25%     70.625000   1.570000   3250.000000       3.0  \n",
       "50%     74.050000   2.135000   6130.000000       3.0  \n",
       "75%     76.475000   2.670000  12075.000000       3.0  \n",
       "max     80.400000   5.020000  38500.000000       3.0  "
      ]
     },
     "execution_count": 36,
     "metadata": {},
     "output_type": "execute_result"
    }
   ],
   "source": [
    "cluster4.describe()"
   ]
  },
  {
   "cell_type": "markdown",
   "id": "9eee74f5",
   "metadata": {
    "papermill": {
     "duration": 0.080635,
     "end_time": "2022-04-12T13:10:21.723209",
     "exception": false,
     "start_time": "2022-04-12T13:10:21.642574",
     "status": "completed"
    },
    "tags": []
   },
   "source": [
    "# Interpretation and Recommendation"
   ]
  },
  {
   "cell_type": "code",
   "execution_count": 37,
   "id": "fbdb7d54",
   "metadata": {
    "execution": {
     "iopub.execute_input": "2022-04-12T13:10:21.891091Z",
     "iopub.status.busy": "2022-04-12T13:10:21.890323Z",
     "iopub.status.idle": "2022-04-12T13:10:21.912331Z",
     "shell.execute_reply": "2022-04-12T13:10:21.912959Z",
     "shell.execute_reply.started": "2022-04-12T13:02:18.743008Z"
    },
    "papermill": {
     "duration": 0.107569,
     "end_time": "2022-04-12T13:10:21.913177",
     "exception": false,
     "start_time": "2022-04-12T13:10:21.805608",
     "status": "completed"
    },
    "tags": []
   },
   "outputs": [
    {
     "data": {
      "text/html": [
       "<div>\n",
       "<style scoped>\n",
       "    .dataframe tbody tr th:only-of-type {\n",
       "        vertical-align: middle;\n",
       "    }\n",
       "\n",
       "    .dataframe tbody tr th {\n",
       "        vertical-align: top;\n",
       "    }\n",
       "\n",
       "    .dataframe thead th {\n",
       "        text-align: right;\n",
       "    }\n",
       "</style>\n",
       "<table border=\"1\" class=\"dataframe\">\n",
       "  <thead>\n",
       "    <tr style=\"text-align: right;\">\n",
       "      <th></th>\n",
       "      <th>Whole Data</th>\n",
       "      <th>Cluster 1</th>\n",
       "      <th>Cluster 2</th>\n",
       "      <th>Cluster 3</th>\n",
       "      <th>Cluster 4</th>\n",
       "    </tr>\n",
       "  </thead>\n",
       "  <tbody>\n",
       "    <tr>\n",
       "      <th>child_mort</th>\n",
       "      <td>38.270060</td>\n",
       "      <td>4.8640</td>\n",
       "      <td>69.904348</td>\n",
       "      <td>4.133333</td>\n",
       "      <td>20.481429</td>\n",
       "    </tr>\n",
       "    <tr>\n",
       "      <th>exports</th>\n",
       "      <td>41.108976</td>\n",
       "      <td>41.3640</td>\n",
       "      <td>27.924623</td>\n",
       "      <td>176.000000</td>\n",
       "      <td>48.232857</td>\n",
       "    </tr>\n",
       "    <tr>\n",
       "      <th>health</th>\n",
       "      <td>6.815689</td>\n",
       "      <td>10.0604</td>\n",
       "      <td>5.660000</td>\n",
       "      <td>6.793333</td>\n",
       "      <td>6.797000</td>\n",
       "    </tr>\n",
       "    <tr>\n",
       "      <th>imports</th>\n",
       "      <td>46.890215</td>\n",
       "      <td>37.8880</td>\n",
       "      <td>33.909651</td>\n",
       "      <td>156.666667</td>\n",
       "      <td>58.195714</td>\n",
       "    </tr>\n",
       "    <tr>\n",
       "      <th>income</th>\n",
       "      <td>17144.688623</td>\n",
       "      <td>42960.0000</td>\n",
       "      <td>6869.608696</td>\n",
       "      <td>64033.333333</td>\n",
       "      <td>16043.714286</td>\n",
       "    </tr>\n",
       "    <tr>\n",
       "      <th>inflation</th>\n",
       "      <td>7.781832</td>\n",
       "      <td>1.4916</td>\n",
       "      <td>13.260507</td>\n",
       "      <td>2.468000</td>\n",
       "      <td>4.855671</td>\n",
       "    </tr>\n",
       "    <tr>\n",
       "      <th>life_expec</th>\n",
       "      <td>70.555689</td>\n",
       "      <td>80.5520</td>\n",
       "      <td>64.362319</td>\n",
       "      <td>81.433333</td>\n",
       "      <td>72.624286</td>\n",
       "    </tr>\n",
       "    <tr>\n",
       "      <th>total_fer</th>\n",
       "      <td>2.947964</td>\n",
       "      <td>1.8232</td>\n",
       "      <td>4.116232</td>\n",
       "      <td>1.380000</td>\n",
       "      <td>2.265286</td>\n",
       "    </tr>\n",
       "    <tr>\n",
       "      <th>gdpp</th>\n",
       "      <td>12964.155689</td>\n",
       "      <td>45716.0000</td>\n",
       "      <td>3226.391304</td>\n",
       "      <td>57566.666667</td>\n",
       "      <td>8954.185714</td>\n",
       "    </tr>\n",
       "    <tr>\n",
       "      <th>clusters</th>\n",
       "      <td>1.706587</td>\n",
       "      <td>0.0000</td>\n",
       "      <td>1.000000</td>\n",
       "      <td>2.000000</td>\n",
       "      <td>3.000000</td>\n",
       "    </tr>\n",
       "  </tbody>\n",
       "</table>\n",
       "</div>"
      ],
      "text/plain": [
       "              Whole Data   Cluster 1   Cluster 2     Cluster 3      Cluster 4\n",
       "child_mort     38.270060      4.8640    69.904348      4.133333     20.481429\n",
       "exports        41.108976     41.3640    27.924623    176.000000     48.232857\n",
       "health          6.815689     10.0604     5.660000      6.793333      6.797000\n",
       "imports        46.890215     37.8880    33.909651    156.666667     58.195714\n",
       "income      17144.688623  42960.0000  6869.608696  64033.333333  16043.714286\n",
       "inflation       7.781832      1.4916    13.260507      2.468000      4.855671\n",
       "life_expec     70.555689     80.5520    64.362319     81.433333     72.624286\n",
       "total_fer       2.947964      1.8232     4.116232      1.380000      2.265286\n",
       "gdpp        12964.155689  45716.0000  3226.391304  57566.666667   8954.185714\n",
       "clusters        1.706587      0.0000     1.000000      2.000000      3.000000"
      ]
     },
     "execution_count": 37,
     "metadata": {},
     "output_type": "execute_result"
    }
   ],
   "source": [
    "mean_data = pd.DataFrame(data.mean()) \n",
    "mean_data[\"Cluster 1\"] = cluster1.mean()\n",
    "mean_data[\"Cluster 2 \"] = cluster2.mean()\n",
    "mean_data[\"Cluster 3 \"] = cluster3.mean()\n",
    "mean_data[\"Cluster 4\"] = cluster4.mean()\n",
    "mean_data.rename(columns={0: \"Whole Data\"}, inplace = True)\n",
    "mean_data\n"
   ]
  },
  {
   "cell_type": "markdown",
   "id": "726759a5",
   "metadata": {
    "papermill": {
     "duration": 0.08075,
     "end_time": "2022-04-12T13:10:22.075327",
     "exception": false,
     "start_time": "2022-04-12T13:10:21.994577",
     "status": "completed"
    },
    "tags": []
   },
   "source": [
    "According to the averages, countries in cluster 2 have the worst socio-economic and health indicators. Therefore, these countries are in the direst need for help."
   ]
  },
  {
   "cell_type": "markdown",
   "id": "3d3581d0",
   "metadata": {
    "papermill": {
     "duration": 0.081584,
     "end_time": "2022-04-12T13:10:22.239753",
     "exception": false,
     "start_time": "2022-04-12T13:10:22.158169",
     "status": "completed"
    },
    "tags": []
   },
   "source": []
  },
  {
   "cell_type": "code",
   "execution_count": null,
   "id": "d13caa0f",
   "metadata": {
    "papermill": {
     "duration": 0.080673,
     "end_time": "2022-04-12T13:10:22.403881",
     "exception": false,
     "start_time": "2022-04-12T13:10:22.323208",
     "status": "completed"
    },
    "tags": []
   },
   "outputs": [],
   "source": []
  }
 ],
 "metadata": {
  "kernelspec": {
   "display_name": "Python 3",
   "language": "python",
   "name": "python3"
  },
  "language_info": {
   "codemirror_mode": {
    "name": "ipython",
    "version": 3
   },
   "file_extension": ".py",
   "mimetype": "text/x-python",
   "name": "python",
   "nbconvert_exporter": "python",
   "pygments_lexer": "ipython3",
   "version": "3.7.12"
  },
  "papermill": {
   "default_parameters": {},
   "duration": 27.647195,
   "end_time": "2022-04-12T13:10:23.397638",
   "environment_variables": {},
   "exception": null,
   "input_path": "__notebook__.ipynb",
   "output_path": "__notebook__.ipynb",
   "parameters": {},
   "start_time": "2022-04-12T13:09:55.750443",
   "version": "2.3.3"
  }
 },
 "nbformat": 4,
 "nbformat_minor": 5
}
